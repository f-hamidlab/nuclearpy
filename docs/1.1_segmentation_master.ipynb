{
 "cells": [
  {
   "cell_type": "markdown",
   "id": "3040e2d8",
   "metadata": {
    "pycharm": {
     "name": "#%% md\n"
    }
   },
   "source": [
    "# NuclearPy - Segmentation\n",
    "\n",
    "This interactive notebook describes a step-by-step pipeline to predict nuclear segments of cells from \n",
    "high-content images and quantify for immunochemistry (ICC) levels and for a variety of nuclear features.\n",
    "\n",
    "To perform an automated analysis on a batch of experiments, please refer to the `1.2_batch_segmentation_master.ipynb` notebook for detailed instructions.\n",
    "\n",
    "## Pre-requisite\n",
    "\n",
    "Please make sure that `NuclearPy` is successfully installed on your local computer. Installation instructions can be found on `NuclearPy` [GitHub repository](https://github.com/f-hamidlab/nuclearpy)."
   ]
  },
  {
   "cell_type": "markdown",
   "id": "469e4692",
   "metadata": {
    "pycharm": {
     "name": "#%% md\n"
    }
   },
   "source": [
    "## NuclearPy segmentation pipeline\n",
    "\n",
    "### Preparation\n",
    "<br>\n",
    "We begin by importing the following Python modules:"
   ]
  },
  {
   "cell_type": "code",
   "execution_count": null,
   "id": "14e9ad1a",
   "metadata": {
    "pycharm": {
     "name": "#%%\n"
    }
   },
   "outputs": [],
   "source": [
    "import nuclearpy.segmentation as ncp\n",
    "import matplotlib.pyplot as plt"
   ]
  },
  {
   "cell_type": "markdown",
   "id": "0c6809e9",
   "metadata": {
    "pycharm": {
     "name": "#%% md\n"
    }
   },
   "source": [
    "<br>\n",
    "Next, create a variable that contains the path to the high-content images. In this example, we will use a representative image of induced neuronal cells stained with DAPI, Beta3-tubulin, RFP marker and Neurogenin2."
   ]
  },
  {
   "cell_type": "code",
   "execution_count": null,
   "id": "04aec2c5",
   "metadata": {
    "pycharm": {
     "name": "#%%\n"
    }
   },
   "outputs": [],
   "source": [
    "path = \"../data/sample_images/experiment1\""
   ]
  },
  {
   "cell_type": "markdown",
   "id": "5834a0f6",
   "metadata": {
    "pycharm": {
     "name": "#%% md\n"
    }
   },
   "source": [
    "### Create Segmentador object\n",
    "<br>\n",
    "NuclearPy stores data from high-content images as a `Segmentador` class. This object can be initialized using\n",
    "`ngt.Segmentador` function with `path` as the mandatory input.\n",
    "<br><br>\n",
    "By default, the outputs of the analysis will be saved in `path` but users can specify \n",
    "a different output directory using the `outdir` param.  \n",
    "<br><br>\n",
    "Also, users can specify to analyse all images or just a single image by toggling the `analyse_all`\n",
    "flag between `True` or `False`."
   ]
  },
  {
   "cell_type": "code",
   "execution_count": null,
   "id": "59080943",
   "metadata": {
    "pycharm": {
     "name": "#%%\n"
    }
   },
   "outputs": [],
   "source": [
    "nps = ncp.Segmentador(path, outdir = None, analyse_all=True)"
   ]
  },
  {
   "cell_type": "markdown",
   "id": "52687504",
   "metadata": {
    "pycharm": {
     "name": "#%% md\n"
    }
   },
   "source": [
    "NuclearPy automatically detects the number and wavelengths of the channels of all high-content images from the experiment. However, we require users to annotate these channels with the proteins/markers that are being labelled.\n",
    "<br><br>\n",
    "This marker labelling is performed by the `ngs.set_channels()` function, which takes up two optional parameters:\n",
    "\n",
    "```\n",
    "channels : str list\n",
    "            List of names of each channel in order. If None, function will request user input\n",
    "marker : string\n",
    "            Name of nuclear marker\n",
    "```\n",
    "\n",
    "<br><br>\n",
    "The following code will assign the channels and nulear marker for our sample image:"
   ]
  },
  {
   "cell_type": "code",
   "execution_count": null,
   "id": "20546e9f",
   "metadata": {
    "pycharm": {
     "name": "#%%\n"
    }
   },
   "outputs": [],
   "source": [
    "nps.set_channels(channels = [\"DAPI\",\"Beta3\",\"RFP\",\"Ngn\"], marker = \"DAPI\")"
   ]
  },
  {
   "cell_type": "markdown",
   "id": "a322ab40",
   "metadata": {},
   "source": [
    "If the optional paramters are omitted, the function will activate an interactive message that prompts user for inputs."
   ]
  },
  {
   "cell_type": "markdown",
   "id": "f0099f5c",
   "metadata": {
    "pycharm": {
     "name": "#%% md\n"
    }
   },
   "source": [
    "### Nuclear segmentation\n",
    "<br>\n",
    "NuclearPy segments nuclei using Celllpose (default) or DeepCell methods. \n",
    "<br><br>\n",
    "For the Cellpose method, users can optionally specify the expected nucleus diameter to speed the segmentation process.\n"
   ]
  },
  {
   "cell_type": "code",
   "execution_count": null,
   "id": "3121c29a",
   "metadata": {
    "pycharm": {
     "name": "#%%\n"
    },
    "scrolled": true
   },
   "outputs": [],
   "source": [
    "nps.nuclear_segmentation(method = \"cellpose\", \n",
    "                         diameter = 30, \n",
    "                         gamma_corr = 0.25, \n",
    "                         dc_scaleCorr = 1.9,\n",
    "                         GPU = True)"
   ]
  },
  {
   "cell_type": "markdown",
   "id": "74bd98a7",
   "metadata": {
    "pycharm": {
     "name": "#%% md\n"
    }
   },
   "source": [
    "<br>\n",
    "To verify the accuracy of the segmentation, users may run the following code block:"
   ]
  },
  {
   "cell_type": "code",
   "execution_count": null,
   "id": "ea4179c5",
   "metadata": {
    "pycharm": {
     "name": "#%%\n"
    },
    "scrolled": false
   },
   "outputs": [],
   "source": [
    "for f in nps.data[\"files\"]:\n",
    "    fig = nps.show_segmentation(file = f)\n",
    "    plt.show()"
   ]
  },
  {
   "cell_type": "markdown",
   "id": "c93c4676",
   "metadata": {
    "pycharm": {
     "name": "#%% md\n"
    }
   },
   "source": [
    "### Measuring nuclear features\n",
    "<br>\n",
    "Once the nuclei masks are determined, users can run `nuclear_features` and `add_nuclear_features` functions to measure different features of the nuclei. The `nuclear_features` quantify primary features which include:\n",
    "\n",
    "- nuclear area\n",
    "- nuclear perimeter\n",
    "- circularity\n",
    "- eccentricity\n",
    "- solidity\n",
    "- major axis length\n",
    "- minor axis length\n",
    "- axes ratio\n",
    "- angle of nuclei axes\n",
    "- intensity of nuclear marker\n",
    "\n",
    "`add_nuclear_features` measure additional features that include:\n",
    "\n",
    "- core, internal and external intensity of nuclear marker\n",
    "- average and total intensity of ICC\n",
    "\n",
    "**Note**: Be sure to execute `nuclear_features` prior to running `add_nuclear_features`."
   ]
  },
  {
   "cell_type": "code",
   "execution_count": null,
   "id": "b29ab1d7",
   "metadata": {
    "pycharm": {
     "name": "#%%\n"
    }
   },
   "outputs": [],
   "source": [
    "nps.nuclear_features()\n",
    "nps.add_nuclear_features()"
   ]
  },
  {
   "cell_type": "markdown",
   "id": "4cc1d80b",
   "metadata": {
    "pycharm": {
     "name": "#%% md\n"
    }
   },
   "source": [
    "<br>\n",
    "The next block of code are optional, and quantifies peak intensities of DNA foci and spatial entropy of the nuclus.\n",
    "Measure DNA dots and DNA peaks. This is an additional nuclear feature, whose measurement takes time. This feature finds the number of high intensity DNA dots in each nucleus."
   ]
  },
  {
   "cell_type": "code",
   "execution_count": null,
   "id": "75523ecb",
   "metadata": {
    "pycharm": {
     "name": "#%%\n"
    }
   },
   "outputs": [],
   "source": [
    "nps.find_dna_peaks(box_size = 10, zoom_box_size = 200)\n",
    "nps.find_dna_dots(zoom_box_size = 200)\n",
    "nps.spatial_entropy(d = 5, zoom_box_size = 200)"
   ]
  },
  {
   "cell_type": "markdown",
   "id": "04f6c1ef",
   "metadata": {
    "pycharm": {
     "name": "#%% md\n"
    }
   },
   "source": [
    "### Categorizing cells expressing ICC markers\n",
    "<br>\n",
    "NuclearPy attempts to categorize cells based on the intensities of each ICC markers. This is performed by the `markerGroup` function and the number of groups can be specified by the `n_groups` param."
   ]
  },
  {
   "cell_type": "code",
   "execution_count": null,
   "id": "4a8f5858",
   "metadata": {
    "pycharm": {
     "name": "#%%\n"
    }
   },
   "outputs": [],
   "source": [
    "nps.markerGroup(n_groups = 5)"
   ]
  },
  {
   "cell_type": "markdown",
   "id": "7d71552e",
   "metadata": {
    "pycharm": {
     "name": "#%% md\n"
    }
   },
   "source": [
    "### Exporting segmented data\n",
    "<br>\n",
    "Users may export the segmented arrays, channel information and all nuclear feature meaurements using the following set of codes. Nuclear feature measurements are exported as a comma-delimted dataframe (CSV)."
   ]
  },
  {
   "cell_type": "code",
   "execution_count": null,
   "id": "a5804013",
   "metadata": {
    "pycharm": {
     "name": "#%%\n"
    }
   },
   "outputs": [],
   "source": [
    "nps.saveArrays()\n",
    "nps.saveChannelInfo()\n",
    "nps.export_csv(filename = \"nuclearpy_output.csv\")"
   ]
  }
 ],
 "metadata": {
  "kernelspec": {
   "display_name": "Python 3 (ipykernel)",
   "language": "python",
   "name": "python3"
  },
  "language_info": {
   "codemirror_mode": {
    "name": "ipython",
    "version": 3
   },
   "file_extension": ".py",
   "mimetype": "text/x-python",
   "name": "python",
   "nbconvert_exporter": "python",
   "pygments_lexer": "ipython3",
   "version": "3.8.13"
  }
 },
 "nbformat": 4,
 "nbformat_minor": 5
}
