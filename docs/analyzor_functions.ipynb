{
 "cells": [
  {
   "cell_type": "markdown",
   "id": "edbd87e0",
   "metadata": {},
   "source": [
    "## *INSTRUCTIONS TO DEVELOPERS*\n",
    "\n",
    "**Make sure to fetch and pull the most updated code and run `pip install .` before using the jupyter notebooks. Codes are constantly being improved and the workflow below work best with the newest version.**"
   ]
  },
  {
   "cell_type": "markdown",
   "id": "493b9183",
   "metadata": {},
   "source": [
    "This notebook contain a list of all functions/properties of the Analyzor object"
   ]
  },
  {
   "cell_type": "code",
   "execution_count": null,
   "id": "bb4a4e87",
   "metadata": {},
   "outputs": [],
   "source": [
    "# create Analyzor object\n",
    "from ngtools.analyzer import Analyzor\n",
    "path = \"../data/sample_output\"\n",
    "obj = Analyzor(path)"
   ]
  },
  {
   "cell_type": "code",
   "execution_count": null,
   "id": "566fb3c9",
   "metadata": {},
   "outputs": [],
   "source": [
    "# to display object information\n",
    "obj.shape()\n",
    "obj.ncells()\n",
    "obj.nfeatures()\n",
    "obj.features()"
   ]
  },
  {
   "cell_type": "code",
   "execution_count": null,
   "id": "c834e0ce",
   "metadata": {},
   "outputs": [],
   "source": [
    "# to display data\n",
    "obj.showData()\n",
    "obj.showData(vars = \"experiment\") #to show some features\n",
    "\n",
    "# to tally observations for features\n",
    "obj.count(vars = \"rfp_group\")\n",
    "obj.count(vars = [\"rfp_group\", \"beta3_group\"])"
   ]
  },
  {
   "cell_type": "code",
   "execution_count": null,
   "id": "195fac31",
   "metadata": {},
   "outputs": [],
   "source": [
    "# modifying and subsetting data\n",
    "\n",
    "## duplicating object\n",
    "obj2 = obj.copy()\n",
    "\n",
    "## rename features\n",
    "obj2.rename({'rfp_group': \"RFP_group\", 'beta3_group': \"beta3_group\", 'ngn_group': \"NGN_group\"})\n",
    "\n",
    "## filter cells by feature observations\n",
    "obj2.filterCells(expr = \"nuclear_area > 100\") # will overwrite original object\n",
    "obj3 = obj2.filterCells(expr = \"nuclear_area > 100\", inplace = False) # return filtered object\n",
    "obj3.filterCells(expr = \"experiment == 'induced'\") # filter string variables"
   ]
  },
  {
   "cell_type": "code",
   "execution_count": null,
   "id": "031fea16",
   "metadata": {},
   "outputs": [],
   "source": [
    "# plotting data\n",
    "help(obj.plotData)\n",
    "\n",
    "## Scatter plots\n",
    "obj.plotData(x = \"nuclear_area\", y = \"avg_intensity_dapi\")\n",
    "obj.plotData(x = \"nuclear_area\", y = \"avg_intensity_dapi\",\n",
    "            hue = \"experiment\")\n",
    "\n",
    "## Violin plots\n",
    "obj.plotData(x = \"experiment\", y = \"avg_intensity_dapi\",\n",
    "            plot_type = \"violin\")\n",
    "obj.plotData(x = \"experiment\", y = \"avg_intensity_rfp\",\n",
    "            plot_type = \"violin\", hue = \"rfp_group\")\n",
    "\n",
    "## Line plot\n",
    "obj.plotData(x=\"rfp_group\", y = \"avg_intensity_rfp\",\n",
    "            plot_type = \"line\")\n",
    "obj.plotData(x=\"rfp_group\", y = \"avg_intensity_rfp\",\n",
    "            plot_type = \"line\", hue = \"experiment\")\n",
    "\n",
    "## Plotting a data subset\n",
    "### useful for quick plotting of subgroups\n",
    "obj.filterCells(\"experiment == 'induced'\", inplace = False).plotData(x = \"nuclear_area\", y = \"avg_intensity_dapi\",\n",
    "            hue = \"experiment\")"
   ]
  },
  {
   "cell_type": "code",
   "execution_count": null,
   "id": "bafe9259",
   "metadata": {},
   "outputs": [],
   "source": [
    "# showing cells\n",
    "help(obj.showCell)\n",
    "\n",
    "## run interactively\n",
    "obj.showCell()\n",
    "\n",
    "## specify ncells and channels to show\n",
    "obj.showCell(n=5, ch2show = {'red':\"rfp\", 'green':\"beta3\"})"
   ]
  }
 ],
 "metadata": {
  "kernelspec": {
   "display_name": "Python 3 (ipykernel)",
   "language": "python",
   "name": "python3"
  },
  "language_info": {
   "codemirror_mode": {
    "name": "ipython",
    "version": 3
   },
   "file_extension": ".py",
   "mimetype": "text/x-python",
   "name": "python",
   "nbconvert_exporter": "python",
   "pygments_lexer": "ipython3",
   "version": "3.10.4"
  }
 },
 "nbformat": 4,
 "nbformat_minor": 5
}
