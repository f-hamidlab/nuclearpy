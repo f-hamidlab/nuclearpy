{
 "cells": [
  {
   "cell_type": "markdown",
   "id": "edbd87e0",
   "metadata": {},
   "source": [
    "## *INSTRUCTIONS TO DEVELOPERS*\n",
    "\n",
    "**Make sure to fetch and pull the most updated code and run `pip install .` before using the jupyter notebooks. Codes are constantly being improved and the workflow below work best with the newest version.**"
   ]
  },
  {
   "cell_type": "markdown",
   "id": "493b9183",
   "metadata": {},
   "source": [
    "This notebook contain a list of all functions/properties of the Analyzor object"
   ]
  },
  {
   "cell_type": "code",
   "execution_count": null,
   "id": "bb4a4e87",
   "metadata": {},
   "outputs": [],
   "source": [
    "# create Analyzor object\n",
    "from ngtools.analyzer import Analyzor\n",
    "path = \"data/sample_output\"\n",
    "obj = Analyzor(path)"
   ]
  },
  {
   "cell_type": "code",
   "execution_count": null,
   "id": "566fb3c9",
   "metadata": {},
   "outputs": [],
   "source": [
    "# to display object information\n",
    "obj.shape\n",
    "obj.ncells\n",
    "obj.nfeatures\n",
    "obj.features\n",
    "obj.showData\n",
    "obj.showData(vars = \"experiment\") #to show some features\n",
    "obj.count # to count number of observations"
   ]
  }
 ],
 "metadata": {
  "kernelspec": {
   "display_name": "Python 3 (ipykernel)",
   "language": "python",
   "name": "python3"
  },
  "language_info": {
   "codemirror_mode": {
    "name": "ipython",
    "version": 3
   },
   "file_extension": ".py",
   "mimetype": "text/x-python",
   "name": "python",
   "nbconvert_exporter": "python",
   "pygments_lexer": "ipython3",
   "version": "3.10.4"
  }
 },
 "nbformat": 4,
 "nbformat_minor": 5
}
