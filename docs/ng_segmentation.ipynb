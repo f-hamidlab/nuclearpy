{
 "cells": [
  {
   "cell_type": "markdown",
   "id": "3040e2d8",
   "metadata": {},
   "source": [
    "# Nuclear Game (NG) - Segmentation\n",
    "NG - Nuclear Segmentation and Feature Measurement Notebook"
   ]
  },
  {
   "cell_type": "markdown",
   "id": "469e4692",
   "metadata": {},
   "source": [
    "### Import modules"
   ]
  },
  {
   "cell_type": "code",
   "execution_count": 1,
   "id": "14e9ad1a",
   "metadata": {},
   "outputs": [],
   "source": [
    "import ngtools.ng_tools as ngt\n",
    "import matplotlib.pyplot as plt"
   ]
  },
  {
   "cell_type": "markdown",
   "id": "0c6809e9",
   "metadata": {},
   "source": [
    "### Path to files\n",
    "Enter path to folder where files are."
   ]
  },
  {
   "cell_type": "code",
   "execution_count": 2,
   "id": "04aec2c5",
   "metadata": {},
   "outputs": [],
   "source": [
    "#path = \"E:/emilio/phd/NucleusAnalysis/data/LaminB1/187 D6 B+ DLbR\"\n",
    "path = \"../data/induced\""
   ]
  },
  {
   "cell_type": "markdown",
   "id": "5834a0f6",
   "metadata": {},
   "source": [
    "## Start Nuclear Game - Segmentation"
   ]
  },
  {
   "cell_type": "code",
   "execution_count": 3,
   "id": "59080943",
   "metadata": {},
   "outputs": [
    {
     "name": "stdout",
     "output_type": "stream",
     "text": [
      "WARNING... In this version (v0.1.2) only CZI files are supported (Note: Z-Stack and time lapse are not currently supported)\n"
     ]
    }
   ],
   "source": [
    "ngs = ngt.NuclearGame_Segmentation(path)"
   ]
  },
  {
   "cell_type": "markdown",
   "id": "5bbec785",
   "metadata": {},
   "source": [
    "### Get file names\n",
    "Currently, the only supported format is CZI. However, we are currently working to read any Bio-format."
   ]
  },
  {
   "cell_type": "code",
   "execution_count": 4,
   "id": "fe5a00aa",
   "metadata": {
    "scrolled": true
   },
   "outputs": [
    {
     "name": "stdout",
     "output_type": "stream",
     "text": [
      "\n",
      "Analyse all (1) .czi files or select one (all/one)? all\n",
      "\n",
      "Files to be analysed: \n",
      "\n",
      "\tSnap-120 (format: .CZI)\n"
     ]
    }
   ],
   "source": [
    "ngs.get_file_name(_format = \".czi\")"
   ]
  },
  {
   "cell_type": "markdown",
   "id": "38b400af",
   "metadata": {},
   "source": [
    "### Read files"
   ]
  },
  {
   "cell_type": "code",
   "execution_count": 5,
   "id": "e9fa6abc",
   "metadata": {
    "scrolled": true
   },
   "outputs": [
    {
     "name": "stdout",
     "output_type": "stream",
     "text": [
      "Key not found: S\n",
      "No Scence or Well Information detected:\n"
     ]
    }
   ],
   "source": [
    "ngs.read_files()"
   ]
  },
  {
   "cell_type": "markdown",
   "id": "dfba8d56",
   "metadata": {},
   "source": [
    "### Identify channels"
   ]
  },
  {
   "cell_type": "markdown",
   "id": "52687504",
   "metadata": {},
   "source": [
    "Channels: DAPI, Beta3, RFP, Ngn"
   ]
  },
  {
   "cell_type": "code",
   "execution_count": 6,
   "id": "20546e9f",
   "metadata": {},
   "outputs": [
    {
     "name": "stdout",
     "output_type": "stream",
     "text": [
      "Insert name of marker in channel DAPI: DAPI\n",
      "Insert name of marker in channel AF488: Beta3\n",
      "Insert name of marker in channel AF568: RFP\n",
      "Insert name of marker in channel AF647: Ngn\n",
      "\n",
      "Which marker is the DNA marker (nuclear staining) (DAPI/Beta3/RFP/Ngn)? DAPI\n"
     ]
    }
   ],
   "source": [
    "ngs.identify_channels()"
   ]
  },
  {
   "cell_type": "markdown",
   "id": "f0099f5c",
   "metadata": {},
   "source": [
    "### Perform nuclear segmentation\n",
    "Nuclear segmentation is performed by using either Cellpose or DeepCell. For Cellpose, diameter (optional) is the estimated average size of the nuclear diameter in pixels. If NONE is given, then it will calculate one, however, this process takes longer.\n",
    "\n",
    "SLOW"
   ]
  },
  {
   "cell_type": "code",
   "execution_count": 7,
   "id": "3121c29a",
   "metadata": {
    "scrolled": true
   },
   "outputs": [
    {
     "name": "stdout",
     "output_type": "stream",
     "text": [
      "\n",
      "Performing segmentation on file 1 of 1 \n",
      "\n"
     ]
    }
   ],
   "source": [
    "ngs.nuclear_segmentation(method = \"cellpose\", diameter = None, gamma_corr = True, gamma = 0.25, dc_scaleCorr = 1.9,\n",
    "                         GPU = True)"
   ]
  },
  {
   "cell_type": "markdown",
   "id": "e2fe5081",
   "metadata": {},
   "source": [
    "### Show nuclear segmentation (optional)"
   ]
  },
  {
   "cell_type": "markdown",
   "id": "74bd98a7",
   "metadata": {},
   "source": [
    "Print names of files."
   ]
  },
  {
   "cell_type": "code",
   "execution_count": 9,
   "id": "6f186aa1",
   "metadata": {},
   "outputs": [
    {
     "name": "stdout",
     "output_type": "stream",
     "text": [
      "Snap-120\n"
     ]
    }
   ],
   "source": [
    "ngs.print_files()"
   ]
  },
  {
   "cell_type": "markdown",
   "id": "ea6d048a",
   "metadata": {},
   "source": [
    "Show nuclear segmentation of one of the files."
   ]
  },
  {
   "cell_type": "code",
   "execution_count": null,
   "id": "ea4179c5",
   "metadata": {
    "scrolled": true
   },
   "outputs": [],
   "source": [
    "from tqdm import tqdm\n",
    "import os\n",
    "\n",
    "#os.mkdir(f\"{ngs.path_save}figures/\")\n",
    "\n",
    "for f in tqdm(ngs.data[\"files\"]):\n",
    "    fig = ngs.show_segmentation(file = f)\n",
    "    #fig.savefig(f\"{ngs.path_save}figures/{f}_masks.pdf\", dpi = 300)\n",
    "    #plt.close()\n",
    "    plt.show()"
   ]
  },
  {
   "cell_type": "markdown",
   "id": "c93c4676",
   "metadata": {},
   "source": [
    "### Measure first pool of nuclear features"
   ]
  },
  {
   "cell_type": "code",
   "execution_count": 11,
   "id": "b29ab1d7",
   "metadata": {},
   "outputs": [
    {
     "name": "stderr",
     "output_type": "stream",
     "text": [
      "100%|█████████████████████████████████████████████████████████████████████████████████████████████████████████████████████████████████████████| 1/1 [00:00<00:00,  2.77it/s]\n"
     ]
    }
   ],
   "source": [
    "ngs.nuclear_features()"
   ]
  },
  {
   "cell_type": "markdown",
   "id": "0c9175b4",
   "metadata": {},
   "source": [
    "### Show distribution of nuclear features (optional)"
   ]
  },
  {
   "cell_type": "markdown",
   "id": "8f80707b",
   "metadata": {},
   "source": [
    "Print the names of the features that we have measured so far..."
   ]
  },
  {
   "cell_type": "code",
   "execution_count": null,
   "id": "c920cf3d",
   "metadata": {},
   "outputs": [],
   "source": [
    "ngs.print_features()"
   ]
  },
  {
   "cell_type": "markdown",
   "id": "5f7f8f38",
   "metadata": {},
   "source": [
    "We can plot any of the features measured by changing the parameter 'feature'."
   ]
  },
  {
   "cell_type": "code",
   "execution_count": null,
   "id": "4b47a7f2",
   "metadata": {},
   "outputs": [],
   "source": [
    "fig = ngs.plot_boxplot_hist(feature = \"nuclear_area\")\n",
    "fig.show()"
   ]
  },
  {
   "cell_type": "markdown",
   "id": "85b69883",
   "metadata": {},
   "source": [
    "### Measure additional nuclear features"
   ]
  },
  {
   "cell_type": "markdown",
   "id": "30f5da15",
   "metadata": {},
   "source": [
    "Measure additional features. These can only be measured if the first pool has already been measured."
   ]
  },
  {
   "cell_type": "markdown",
   "id": "eb1d3562",
   "metadata": {},
   "source": [
    "SLOW"
   ]
  },
  {
   "cell_type": "code",
   "execution_count": 12,
   "id": "489faf4d",
   "metadata": {},
   "outputs": [
    {
     "name": "stderr",
     "output_type": "stream",
     "text": [
      "100%|█████████████████████████████████████████████████████████████████████████████████████████████████████████████████████████████████████████| 1/1 [00:35<00:00, 35.31s/it]\n"
     ]
    }
   ],
   "source": [
    "ngs.add_nuclear_features()"
   ]
  },
  {
   "cell_type": "markdown",
   "id": "4cc1d80b",
   "metadata": {},
   "source": [
    "Measure DNA dots and DNA peaks. This is an additional nuclear feature, whose measurement takes time. This feature finds the number of high intensity DNA dots in each nucleus.\n",
    "\n",
    "SLOW"
   ]
  },
  {
   "cell_type": "code",
   "execution_count": 14,
   "id": "75523ecb",
   "metadata": {},
   "outputs": [
    {
     "name": "stderr",
     "output_type": "stream",
     "text": [
      "100%|█████████████████████████████████████████████████████████████████████████████████████████████████████████████████████████████████████████| 1/1 [00:46<00:00, 46.63s/it]\n",
      "100%|█████████████████████████████████████████████████████████████████████████████████████████████████████████████████████████████████████████| 1/1 [00:45<00:00, 45.85s/it]\n"
     ]
    }
   ],
   "source": [
    "ngs.find_dna_peaks(box_size = 10, zoom_box_size = 200)\n",
    "ngs.find_dna_dots(zoom_box_size = 200)"
   ]
  },
  {
   "cell_type": "markdown",
   "id": "cfa6bb37",
   "metadata": {},
   "source": [
    "Measure Leibovici's Spatial Entropy. This is an additional nuclear feature, whose measurement takes time. This feature calculates the spatial entropy of each nucleus using the Leibovici method. "
   ]
  },
  {
   "cell_type": "code",
   "execution_count": 15,
   "id": "39e3b680",
   "metadata": {},
   "outputs": [
    {
     "name": "stderr",
     "output_type": "stream",
     "text": [
      "100%|█████████████████████████████████████████████████████████████████████████████████████████████████████████████████████████████████████████| 1/1 [00:31<00:00, 31.11s/it]\n"
     ]
    }
   ],
   "source": [
    "ngs.spatial_entropy(d = 5, zoom_box_size = 200)"
   ]
  },
  {
   "cell_type": "markdown",
   "id": "82a0c0c2",
   "metadata": {},
   "source": [
    "Print nuclear features measured:"
   ]
  },
  {
   "cell_type": "code",
   "execution_count": null,
   "id": "55800a65",
   "metadata": {},
   "outputs": [],
   "source": [
    "ngs.print_features()"
   ]
  },
  {
   "cell_type": "markdown",
   "id": "04f6c1ef",
   "metadata": {},
   "source": [
    "### Identify cells positive to the markers"
   ]
  },
  {
   "cell_type": "markdown",
   "id": "4ef998a0",
   "metadata": {},
   "source": [
    "Another option is to use several thresholds and assign classes according to marker intensity:"
   ]
  },
  {
   "cell_type": "code",
   "execution_count": 16,
   "id": "4a8f5858",
   "metadata": {},
   "outputs": [
    {
     "name": "stdout",
     "output_type": "stream",
     "text": [
      "Given sample size (10) is larger than (or equal to) the total number of samples (1). Using all samples to determine thresholds.\n"
     ]
    },
    {
     "name": "stderr",
     "output_type": "stream",
     "text": [
      "100%|█████████████████████████████████████████████████████████████████████████████████████████████████████████████████████████████████████████| 4/4 [00:35<00:00,  8.79s/it]\n"
     ]
    }
   ],
   "source": [
    "ngs.markerGroup(n_groups = 5, sample_size = 10) # A large sample size is time consuming."
   ]
  },
  {
   "cell_type": "markdown",
   "id": "7d71552e",
   "metadata": {},
   "source": [
    "### Save data and channel information for further NG analysis"
   ]
  },
  {
   "cell_type": "code",
   "execution_count": 17,
   "id": "a5804013",
   "metadata": {},
   "outputs": [
    {
     "name": "stderr",
     "output_type": "stream",
     "text": [
      "100%|█████████████████████████████████████████████████████████████████████████████████████████████████████████████████████████████████████████| 1/1 [00:00<00:00,  9.30it/s]"
     ]
    },
    {
     "name": "stdout",
     "output_type": "stream",
     "text": [
      "Channel Info saved successfully!\n"
     ]
    },
    {
     "name": "stderr",
     "output_type": "stream",
     "text": [
      "\n"
     ]
    }
   ],
   "source": [
    "ngs.saveArrays()\n",
    "ngs.saveChannelInfo()"
   ]
  },
  {
   "cell_type": "markdown",
   "id": "6dc33f8d",
   "metadata": {},
   "source": [
    "### Export nuclear features measured as CSV"
   ]
  },
  {
   "cell_type": "code",
   "execution_count": 18,
   "id": "1cfddda6",
   "metadata": {},
   "outputs": [
    {
     "name": "stdout",
     "output_type": "stream",
     "text": [
      "CSV file saved as: ../data/induced/out_ng (1)/output.csv.\n"
     ]
    }
   ],
   "source": [
    "ngs.export_csv(filename = \"output.csv\")"
   ]
  }
 ],
 "metadata": {
  "kernelspec": {
   "display_name": "Python 3 (ipykernel)",
   "language": "python",
   "name": "python3"
  },
  "language_info": {
   "codemirror_mode": {
    "name": "ipython",
    "version": 3
   },
   "file_extension": ".py",
   "mimetype": "text/x-python",
   "name": "python",
   "nbconvert_exporter": "python",
   "pygments_lexer": "ipython3",
   "version": "3.8.13"
  }
 },
 "nbformat": 4,
 "nbformat_minor": 5
}
