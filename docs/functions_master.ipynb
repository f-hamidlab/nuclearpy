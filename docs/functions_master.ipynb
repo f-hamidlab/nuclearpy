{
 "cells": [
  {
   "cell_type": "markdown",
   "id": "5a623c69",
   "metadata": {},
   "source": [
    "## DO NOT TOUCH THIS MASTER VERSION OF THE NOTEBOOK. Create a duplicate notebook with your own copy name (e.g. marcelo_analyzor.ipynb) for your own usage"
   ]
  },
  {
   "cell_type": "markdown",
   "id": "edbd87e0",
   "metadata": {
    "pycharm": {
     "name": "#%% md\n"
    }
   },
   "source": [
    "## *INSTRUCTIONS TO DEVELOPERS*\n",
    "\n",
    "**Make sure to fetch and pull the most updated code and run `pip install .` before using the jupyter notebooks. Codes are constantly being improved and the workflow below work best with the newest version.**"
   ]
  },
  {
   "cell_type": "markdown",
   "id": "493b9183",
   "metadata": {
    "pycharm": {
     "name": "#%% md\n"
    }
   },
   "source": [
    "This notebook contain a list of all functions/properties of the Analyzor object"
   ]
  },
  {
   "cell_type": "markdown",
   "id": "059e4064",
   "metadata": {
    "pycharm": {
     "name": "#%% md\n"
    }
   },
   "source": []
  },
  {
   "cell_type": "code",
   "execution_count": null,
   "id": "29538703",
   "metadata": {
    "pycharm": {
     "name": "#%%\n"
    }
   },
   "outputs": [],
   "source": [
    "# create Analyzor object\n",
    "from ngtools.analyzer import Analyzor\n",
    "path = \"../data/sample_output\"\n",
    "obj = Analyzor(path)"
   ]
  },
  {
   "cell_type": "markdown",
   "id": "43d82167",
   "metadata": {
    "pycharm": {
     "name": "#%% md\n"
    }
   },
   "source": [
    "## Display object information"
   ]
  },
  {
   "cell_type": "code",
   "execution_count": null,
   "id": "566fb3c9",
   "metadata": {
    "pycharm": {
     "name": "#%%\n"
    }
   },
   "outputs": [],
   "source": [
    "obj.shape()\n",
    "obj.ncells()\n",
    "obj.nfeatures()\n",
    "obj.features()"
   ]
  },
  {
   "cell_type": "markdown",
   "id": "a5dfb94a",
   "metadata": {
    "pycharm": {
     "name": "#%% md\n"
    }
   },
   "source": [
    "## Display and summarise object data"
   ]
  },
  {
   "cell_type": "code",
   "execution_count": null,
   "id": "c834e0ce",
   "metadata": {
    "pycharm": {
     "name": "#%%\n"
    }
   },
   "outputs": [],
   "source": [
    "# to display data\n",
    "obj.showData()\n",
    "obj.showData(vars = \"experiment\") # show desirable features\n",
    "\n",
    "# extract vars as vectors\n",
    "obj[\"experiment\"]\n",
    "\n",
    "# to tally observations for features\n",
    "obj.count(vars = \"rfp_group\")\n",
    "obj.count(vars = [\"rfp_group\", \"beta3_group\"])"
   ]
  },
  {
   "cell_type": "markdown",
   "id": "213d9c3d",
   "metadata": {
    "pycharm": {
     "name": "#%% md\n"
    }
   },
   "source": [
    "## Modify and subset data"
   ]
  },
  {
   "cell_type": "code",
   "execution_count": null,
   "id": "f0e06608",
   "metadata": {
    "pycharm": {
     "name": "#%%\n"
    }
   },
   "outputs": [],
   "source": [
    "## duplicate object\n",
    "obj2 = obj.copy()\n",
    "\n",
    "## rename features\n",
    "obj2.rename({'rfp_group': \"RFP_group\", 'beta3_group': \"beta3_group\", 'ngn_group': \"NGN_group\"})\n",
    "\n",
    "## filter cells by feature observations\n",
    "obj2.filterCells(expr = \"nuclear_area > 100\") # will overwrite original object\n",
    "obj3 = obj2.filterCells(expr = \"nuclear_area > 100\", inplace = False) # return filtered object\n",
    "obj3.filterCells(expr = \"experiment == 'induced'\") # filter string variables\n",
    "\n",
    "## filter cells by cell index\n",
    "obj4 = obj.filterCells(cells = list(range(1,10)), inplace = False)"
   ]
  },
  {
   "cell_type": "markdown",
   "id": "cf19641c",
   "metadata": {
    "pycharm": {
     "name": "#%% md\n"
    }
   },
   "source": [
    "## Plot object"
   ]
  },
  {
   "cell_type": "code",
   "execution_count": null,
   "id": "81f68051",
   "metadata": {
    "pycharm": {
     "name": "#%%\n"
    }
   },
   "outputs": [],
   "source": [
    "# help with plotting data\n",
    "help(obj.plotData)\n",
    "\n",
    "## Scatter plots\n",
    "obj.plotData(x = \"nuclear_area\", y = \"avg_intensity_dapi\")\n",
    "obj.plotData(x = \"nuclear_area\", y = \"avg_intensity_dapi\",\n",
    "            hue = \"experiment\")\n",
    "\n",
    "## Violin plots\n",
    "obj.plotData(x = \"experiment\", y = \"avg_intensity_dapi\",\n",
    "            plot_type = \"violin\")\n",
    "obj.plotData(x = \"experiment\", y = \"avg_intensity_rfp\",\n",
    "            plot_type = \"violin\", hue = \"rfp_group\")\n",
    "\n",
    "## Line plot\n",
    "obj.plotData(x=\"rfp_group\", y = \"avg_intensity_rfp\",\n",
    "            plot_type = \"line\")\n",
    "obj.plotData(x=\"rfp_group\", y = \"avg_intensity_rfp\",\n",
    "            plot_type = \"line\", hue = \"experiment\")\n",
    "\n",
    "## Plotting a data subset\n",
    "### useful for quick plotting of subgroups\n",
    "obj.plotData(x = \"nuclear_area\", y = \"avg_intensity_dapi\",\n",
    "            hue = \"experiment\", filter = \"experiment == 'induced'\")"
   ]
  },
  {
   "cell_type": "markdown",
   "id": "18a0c79c",
   "metadata": {
    "pycharm": {
     "name": "#%% md\n"
    }
   },
   "source": [
    "## Select cells from scatterplot"
   ]
  },
  {
   "cell_type": "code",
   "execution_count": null,
   "id": "341ee262",
   "metadata": {
    "pycharm": {
     "name": "#%%\n"
    }
   },
   "outputs": [],
   "source": [
    "chosen_cells = obj.chooseCells(x = \"nuclear_area\", y = \"avg_intensity_dapi\")\n",
    "\n",
    "# outputs a dict that can be passed to functions including `filterCells`, `runPT`"
   ]
  },
  {
   "cell_type": "markdown",
   "id": "dd81f8f3",
   "metadata": {
    "pycharm": {
     "name": "#%% md\n"
    }
   },
   "source": [
    "## Show images of cell(s)"
   ]
  },
  {
   "cell_type": "code",
   "execution_count": null,
   "id": "e3689174",
   "metadata": {
    "pycharm": {
     "name": "#%%\n"
    }
   },
   "outputs": [],
   "source": [
    "# showing cells\n",
    "help(obj.showCell)\n",
    "\n",
    "## run interactively\n",
    "obj.showCell()\n",
    "\n",
    "## specify ncells and channels to show\n",
    "obj.showCell(n=5, ch2show = {'red':\"rfp\", 'green':\"beta3\"})\n",
    "\n",
    "## showing subset of cells\n",
    "obj.showCell(n=5, ch2show = {'red':\"rfp\", 'green':\"beta3\"},\n",
    "             filter = \"experiment == 'induced'\")"
   ]
  },
  {
   "cell_type": "markdown",
   "id": "479bf533",
   "metadata": {
    "pycharm": {
     "name": "#%% md\n"
    }
   },
   "source": [
    "## Preprocess segmented data"
   ]
  },
  {
   "cell_type": "code",
   "execution_count": null,
   "id": "cd756fda",
   "metadata": {
    "pycharm": {
     "name": "#%%\n"
    }
   },
   "outputs": [],
   "source": [
    "obj.ctrDAPI(splitBy=\"experiment\", nbins=100)  # centralize DAPI intensities between experiments\n",
    "obj.findSingleCells()  # annotate single-cells\n",
    "obj.normIntensity(method = \"mode\", nbins = 100)  # normalize channel intensities"
   ]
  },
  {
   "cell_type": "markdown",
   "id": "9cbb1e50",
   "metadata": {
    "pycharm": {
     "name": "#%% md\n"
    }
   },
   "source": []
  },
  {
   "cell_type": "code",
   "execution_count": null,
   "id": "5a5f7159",
   "metadata": {
    "pycharm": {
     "name": "#%%\n"
    }
   },
   "outputs": [],
   "source": [
    "## prepdata\n",
    "obj.buildAData(excluded_features=['angle','iNs','total_intensity_core_dapi', 'total_intensity_internal_ring_dapi',\n",
    "                                 'total_intensity_external_ring_dapi', 'total_intensity_dapi', 'total_intensity_rfp',\n",
    "                                 'total_intensity_laminB1', 'total_intensity_beta3', 'beta3_x_rfp', 'beta3_x_laminB1',\n",
    "                                 'rfp_x_laminB1', 'beta3_x_rfp_x_laminB1'])\n",
    "obj.normAData()\n",
    "\n",
    "## show vars and obs data\n",
    "obj.showADataVars()\n",
    "obj.showADataObs()\n",
    "\n",
    "## Cluster data\n",
    "obj.findNeighbours(method = \"umap\") # or\n",
    "obj.findNeighbours(method = \"gauss\")\n",
    "obj.findClusters(method = \"leiden\", res=0.6) # or\n",
    "obj.findClusters(method = \"louvain\", res=0.6)\n",
    "\n",
    "## Dim reduction\n",
    "obj.runDimReduc(method = \"umap\") # or\n",
    "obj.runDimReduc(method = \"diffmap\")\n",
    "\n",
    "## calc pseudotime\n",
    "obj.runPT(root_cells = 3)    # provide index of cells to use for pseudotime\n",
    "# or\n",
    "rootcells = obj.chooseCells(reduction = \"diffmap\")\n",
    "obj.runPT(root_cells=rootcells)\n",
    "\n",
    "# plot Dim reduc map\n",
    "obj.plotDim(hue = \"leiden\", method=\"umap\")\n",
    "obj.plotDim(hue = \"avg_intensity_rfp\", method=\"umap\")\n",
    "obj.plotDim(hue = \"avg_intensity_rfp\", method=\"diffmap\")"
   ]
  }
 ],
 "metadata": {
  "kernelspec": {
   "display_name": "Python 3 (ipykernel)",
   "language": "python",
   "name": "python3"
  },
  "language_info": {
   "codemirror_mode": {
    "name": "ipython",
    "version": 3
   },
   "file_extension": ".py",
   "mimetype": "text/x-python",
   "name": "python",
   "nbconvert_exporter": "python",
   "pygments_lexer": "ipython3",
   "version": "3.8.13"
  }
 },
 "nbformat": 4,
 "nbformat_minor": 5
}
