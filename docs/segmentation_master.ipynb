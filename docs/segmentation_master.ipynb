{
 "cells": [
  {
   "cell_type": "markdown",
   "id": "45856ff3",
   "metadata": {
    "pycharm": {
     "name": "#%% md\n"
    }
   },
   "source": [
    "## DO NOT TOUCH THIS MASTER VERSION OF THE NOTEBOOK. Create a duplicate notebook with your own copy name (e.g. marcelo_segmentador.ipynb) for your own usage"
   ]
  },
  {
   "cell_type": "markdown",
   "id": "3040e2d8",
   "metadata": {
    "pycharm": {
     "name": "#%% md\n"
    }
   },
   "source": [
    "# Nuclear Game (NG) - Segmentation\n",
    "NG - Nuclear Segmentation and Feature Measurement Notebook"
   ]
  },
  {
   "cell_type": "markdown",
   "id": "469e4692",
   "metadata": {
    "pycharm": {
     "name": "#%% md\n"
    }
   },
   "source": [
    "### Import modules"
   ]
  },
  {
   "cell_type": "code",
   "execution_count": null,
   "id": "14e9ad1a",
   "metadata": {
    "pycharm": {
     "name": "#%%\n"
    }
   },
   "outputs": [],
   "source": [
    "import ngtools.segmentation as ngt\n",
    "import matplotlib.pyplot as plt"
   ]
  },
  {
   "cell_type": "markdown",
   "id": "0c6809e9",
   "metadata": {
    "pycharm": {
     "name": "#%% md\n"
    }
   },
   "source": [
    "### Path to files\n",
    "Enter path to folder where files are."
   ]
  },
  {
   "cell_type": "code",
   "execution_count": null,
   "id": "04aec2c5",
   "metadata": {
    "pycharm": {
     "name": "#%%\n"
    }
   },
   "outputs": [],
   "source": [
    "path = \"data/sample_images\""
   ]
  },
  {
   "cell_type": "markdown",
   "id": "5834a0f6",
   "metadata": {
    "pycharm": {
     "name": "#%% md\n"
    }
   },
   "source": [
    "## Start Nuclear Game - Segmentation"
   ]
  },
  {
   "cell_type": "code",
   "execution_count": null,
   "id": "59080943",
   "metadata": {
    "pycharm": {
     "name": "#%%\n"
    }
   },
   "outputs": [],
   "source": [
    "ngs = ngt.Segmentador(path, outdir = None, analyse_all=False)"
   ]
  },
  {
   "cell_type": "markdown",
   "id": "dfba8d56",
   "metadata": {
    "pycharm": {
     "name": "#%% md\n"
    }
   },
   "source": [
    "### Identify channels"
   ]
  },
  {
   "cell_type": "markdown",
   "id": "52687504",
   "metadata": {
    "pycharm": {
     "name": "#%% md\n"
    }
   },
   "source": [
    "Channels: DAPI, Beta3, RFP, Ngn"
   ]
  },
  {
   "cell_type": "code",
   "execution_count": null,
   "id": "20546e9f",
   "metadata": {
    "pycharm": {
     "name": "#%%\n"
    }
   },
   "outputs": [],
   "source": [
    "ngs.set_channels(channels = [\"dapi\",\"gfap\",\"actin\",\"laminB1\"], marker = \"dapi\")"
   ]
  },
  {
   "cell_type": "markdown",
   "id": "f0099f5c",
   "metadata": {
    "pycharm": {
     "name": "#%% md\n"
    }
   },
   "source": [
    "### Perform nuclear segmentation\n",
    "Nuclear segmentation is performed by using either Cellpose or DeepCell. For Cellpose, diameter (optional) is the estimated average size of the nuclear diameter in pixels. If NONE is given, then it will calculate one, however, this process takes longer."
   ]
  },
  {
   "cell_type": "code",
   "execution_count": null,
   "id": "3121c29a",
   "metadata": {
    "pycharm": {
     "name": "#%%\n"
    },
    "scrolled": true
   },
   "outputs": [],
   "source": [
    "ngs.nuclear_segmentation(method = \"cellpose\", diameter = 30, gamma_corr = True, gamma = 0.25, dc_scaleCorr = 1.9,\n",
    "                         GPU = False)"
   ]
  },
  {
   "cell_type": "markdown",
   "id": "e2fe5081",
   "metadata": {
    "pycharm": {
     "name": "#%% md\n"
    }
   },
   "source": [
    "### Show nuclear segmentation (optional)"
   ]
  },
  {
   "cell_type": "markdown",
   "id": "74bd98a7",
   "metadata": {
    "pycharm": {
     "name": "#%% md\n"
    }
   },
   "source": [
    "Print names of files."
   ]
  },
  {
   "cell_type": "code",
   "execution_count": null,
   "id": "6f186aa1",
   "metadata": {
    "pycharm": {
     "name": "#%%\n"
    }
   },
   "outputs": [],
   "source": [
    "ngs.print_files()"
   ]
  },
  {
   "cell_type": "markdown",
   "id": "ea6d048a",
   "metadata": {
    "pycharm": {
     "name": "#%% md\n"
    }
   },
   "source": [
    "Show nuclear segmentation of one of the files."
   ]
  },
  {
   "cell_type": "code",
   "execution_count": null,
   "id": "ea4179c5",
   "metadata": {
    "pycharm": {
     "name": "#%%\n"
    },
    "scrolled": false
   },
   "outputs": [],
   "source": [
    "from tqdm import tqdm\n",
    "import os\n",
    "\n",
    "#os.mkdir(f\"{ngs.path_save}figures/\")\n",
    "\n",
    "for f in tqdm(ngs.data[\"files\"]):\n",
    "    fig = ngs.show_segmentation(file = f)\n",
    "    #fig.savefig(f\"{ngs.path_save}figures/{f}_masks.pdf\", dpi = 300)\n",
    "    #plt.close()\n",
    "    plt.show()"
   ]
  },
  {
   "cell_type": "markdown",
   "id": "c93c4676",
   "metadata": {
    "pycharm": {
     "name": "#%% md\n"
    }
   },
   "source": [
    "### Measure first pool of nuclear features"
   ]
  },
  {
   "cell_type": "code",
   "execution_count": null,
   "id": "b29ab1d7",
   "metadata": {
    "pycharm": {
     "name": "#%%\n"
    }
   },
   "outputs": [],
   "source": [
    "ngs.nuclear_features()"
   ]
  },
  {
   "cell_type": "markdown",
   "id": "0c9175b4",
   "metadata": {
    "pycharm": {
     "name": "#%% md\n"
    }
   },
   "source": [
    "### Show distribution of nuclear features (optional)"
   ]
  },
  {
   "cell_type": "markdown",
   "id": "8f80707b",
   "metadata": {
    "pycharm": {
     "name": "#%% md\n"
    }
   },
   "source": [
    "Print the names of the features that we have measured so far..."
   ]
  },
  {
   "cell_type": "code",
   "execution_count": null,
   "id": "c920cf3d",
   "metadata": {
    "pycharm": {
     "name": "#%%\n"
    }
   },
   "outputs": [],
   "source": [
    "ngs.print_features()"
   ]
  },
  {
   "cell_type": "markdown",
   "id": "5f7f8f38",
   "metadata": {
    "pycharm": {
     "name": "#%% md\n"
    }
   },
   "source": [
    "We can plot any of the features measured by changing the parameter 'feature'."
   ]
  },
  {
   "cell_type": "code",
   "execution_count": null,
   "id": "4b47a7f2",
   "metadata": {
    "pycharm": {
     "name": "#%%\n"
    }
   },
   "outputs": [],
   "source": [
    "fig = ngs.plot_boxplot_hist(feature = \"nuclear_area\")\n",
    "fig.show()"
   ]
  },
  {
   "cell_type": "markdown",
   "id": "85b69883",
   "metadata": {
    "pycharm": {
     "name": "#%% md\n"
    }
   },
   "source": [
    "### Measure additional nuclear features"
   ]
  },
  {
   "cell_type": "markdown",
   "id": "30f5da15",
   "metadata": {
    "pycharm": {
     "name": "#%% md\n"
    }
   },
   "source": [
    "Measure additional features. These can only be measured if the first pool has already been measured."
   ]
  },
  {
   "cell_type": "code",
   "execution_count": null,
   "id": "489faf4d",
   "metadata": {
    "pycharm": {
     "name": "#%%\n"
    }
   },
   "outputs": [],
   "source": [
    "ngs.add_nuclear_features()"
   ]
  },
  {
   "cell_type": "markdown",
   "id": "4cc1d80b",
   "metadata": {
    "pycharm": {
     "name": "#%% md\n"
    }
   },
   "source": [
    "Measure DNA dots and DNA peaks. This is an additional nuclear feature, whose measurement takes time. This feature finds the number of high intensity DNA dots in each nucleus."
   ]
  },
  {
   "cell_type": "code",
   "execution_count": null,
   "id": "75523ecb",
   "metadata": {
    "pycharm": {
     "name": "#%%\n"
    }
   },
   "outputs": [],
   "source": [
    "ngs.find_dna_peaks(box_size = 10, zoom_box_size = 200)\n",
    "ngs.find_dna_dots(zoom_box_size = 200)"
   ]
  },
  {
   "cell_type": "markdown",
   "id": "cfa6bb37",
   "metadata": {
    "pycharm": {
     "name": "#%% md\n"
    }
   },
   "source": [
    "Measure Leibovici's Spatial Entropy. This is an additional nuclear feature, whose measurement takes time. This feature calculates the spatial entropy of each nucleus using the Leibovici method. "
   ]
  },
  {
   "cell_type": "code",
   "execution_count": null,
   "id": "39e3b680",
   "metadata": {
    "pycharm": {
     "name": "#%%\n"
    }
   },
   "outputs": [],
   "source": [
    "ngs.spatial_entropy(d = 5, zoom_box_size = 200)"
   ]
  },
  {
   "cell_type": "markdown",
   "id": "82a0c0c2",
   "metadata": {
    "pycharm": {
     "name": "#%% md\n"
    }
   },
   "source": [
    "Print nuclear features measured:"
   ]
  },
  {
   "cell_type": "code",
   "execution_count": null,
   "id": "55800a65",
   "metadata": {
    "pycharm": {
     "name": "#%%\n"
    }
   },
   "outputs": [],
   "source": [
    "ngs.print_features()"
   ]
  },
  {
   "cell_type": "markdown",
   "id": "04f6c1ef",
   "metadata": {
    "pycharm": {
     "name": "#%% md\n"
    }
   },
   "source": [
    "### Identify cells positive to the markers"
   ]
  },
  {
   "cell_type": "markdown",
   "id": "4ef998a0",
   "metadata": {
    "pycharm": {
     "name": "#%% md\n"
    }
   },
   "source": [
    "Another option is to use several thresholds and assign classes according to marker intensity:"
   ]
  },
  {
   "cell_type": "code",
   "execution_count": null,
   "id": "4a8f5858",
   "metadata": {
    "pycharm": {
     "name": "#%%\n"
    }
   },
   "outputs": [],
   "source": [
    "ngs.markerGroup(n_groups = 5)"
   ]
  },
  {
   "cell_type": "markdown",
   "id": "7d71552e",
   "metadata": {
    "pycharm": {
     "name": "#%% md\n"
    }
   },
   "source": [
    "### Save data and channel information for further NG analysis"
   ]
  },
  {
   "cell_type": "code",
   "execution_count": null,
   "id": "a5804013",
   "metadata": {
    "pycharm": {
     "name": "#%%\n"
    }
   },
   "outputs": [],
   "source": [
    "ngs.saveArrays()\n",
    "ngs.saveChannelInfo()"
   ]
  },
  {
   "cell_type": "markdown",
   "id": "6dc33f8d",
   "metadata": {
    "pycharm": {
     "name": "#%% md\n"
    }
   },
   "source": [
    "### Export nuclear features measured as CSV"
   ]
  },
  {
   "cell_type": "code",
   "execution_count": null,
   "id": "1cfddda6",
   "metadata": {
    "pycharm": {
     "name": "#%%\n"
    }
   },
   "outputs": [],
   "source": [
    "ngs.export_csv(filename = \"outputD3.csv\")"
   ]
  }
 ],
 "metadata": {
  "kernelspec": {
   "display_name": "Python 3 (ipykernel)",
   "language": "python",
   "name": "python3"
  },
  "language_info": {
   "codemirror_mode": {
    "name": "ipython",
    "version": 3
   },
   "file_extension": ".py",
   "mimetype": "text/x-python",
   "name": "python",
   "nbconvert_exporter": "python",
   "pygments_lexer": "ipython3",
   "version": "3.8.13"
  }
 },
 "nbformat": 4,
 "nbformat_minor": 5
}