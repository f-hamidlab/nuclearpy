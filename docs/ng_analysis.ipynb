{
 "cells": [
  {
   "cell_type": "markdown",
   "id": "5bac8149",
   "metadata": {},
   "source": [
    "# Analyzing Segmentador data\n",
    "Gabriel Emilio Herrera Oropeza <br>\n",
    "13/06/2022"
   ]
  },
  {
   "cell_type": "markdown",
   "id": "9636b7d7",
   "metadata": {},
   "source": [
    "## *INSTRUCTIONS TO DEVELOPERS*\n",
    "\n",
    "**Make sure to fetch and pull the most updated code and run `pip install .` before using the jupyter notebooks. Codes are constantly being improved and the workflow below work best with the newest version.**"
   ]
  },
  {
   "cell_type": "markdown",
   "id": "7f23794f",
   "metadata": {},
   "source": [
    "This document describes the workflow to analyze data from segmented images that were previously processed by `insert tool name`. We will show how to import, visualise, filter and cluster the data using robust, simple-to-use functions. Many of these functions take up positional arguments that can be modified. To display the usage of these functions, run `help(name_of_function)`.\n",
    "\n",
    "We begin by importing the `tool name` module."
   ]
  },
  {
   "cell_type": "code",
   "execution_count": null,
   "id": "ab75d390",
   "metadata": {},
   "outputs": [],
   "source": [
    "from ngtools.analyzer import Analyzor"
   ]
  },
  {
   "cell_type": "markdown",
   "id": "a6724212",
   "metadata": {},
   "source": [
    "## Analyzor object\n",
    "\n",
    "We provide an Analyzor object class that facilitates storage of nuclei segmented data and its downstream processing. To construct this object, run the following: "
   ]
  },
  {
   "cell_type": "code",
   "execution_count": null,
   "id": "10f068f8",
   "metadata": {},
   "outputs": [],
   "source": [
    "path_to_experiments = \"/media/cdn-bc/RAID/Projects/FH021_Marcelo_seganalysis/outputs/NGNdays3\"\n",
    "nga = Analyzor(path_to_experiments)"
   ]
  },
  {
   "cell_type": "markdown",
   "id": "28df7c22",
   "metadata": {},
   "source": [
    "## Centering DAPI"
   ]
  },
  {
   "cell_type": "code",
   "execution_count": null,
   "id": "94a4bb41",
   "metadata": {},
   "outputs": [],
   "source": [
    "nga.ctrDAPI()"
   ]
  },
  {
   "cell_type": "markdown",
   "id": "1cdd5c75",
   "metadata": {},
   "source": [
    "### Identify Single Cells\n",
    "Identify single cells based on DNA marker content."
   ]
  },
  {
   "cell_type": "code",
   "execution_count": null,
   "id": "03afa8b3",
   "metadata": {},
   "outputs": [],
   "source": [
    "nga.findSingleCells()\n",
    "nga.showData()"
   ]
  },
  {
   "cell_type": "markdown",
   "id": "67e02f4a",
   "metadata": {},
   "source": [
    "## Displaying image of cells\n",
    "\n",
    "The Analyzor object holds the path to the image of each cells and has the ability to display this image.\n",
    "Simply run the `showCell` function:"
   ]
  },
  {
   "cell_type": "code",
   "execution_count": null,
   "id": "cda1b28f",
   "metadata": {},
   "outputs": [],
   "source": [
    "nga.showCell()"
   ]
  },
  {
   "cell_type": "markdown",
   "id": "d33b96f8",
   "metadata": {},
   "source": [
    "Running the above function without any input parameters will invoke an interactive prompt. Alternatiely, you may provide the number of cells and channels to display as such:"
   ]
  },
  {
   "cell_type": "code",
   "execution_count": null,
   "id": "f87f1b0f",
   "metadata": {},
   "outputs": [],
   "source": [
    "nga.showCell(n=5, ch2show = {'red': \"RFP\", 'green': \"Beta3\"})"
   ]
  },
  {
   "cell_type": "markdown",
   "id": "58e97be3",
   "metadata": {},
   "source": [
    "To maximise the use of RGB channels, `showCell` will show the DAPI/nucleus as a separate layer by default. This can be switched off using the `show_nucleus` flag:"
   ]
  },
  {
   "cell_type": "code",
   "execution_count": null,
   "id": "9e1e31f1",
   "metadata": {},
   "outputs": [],
   "source": [
    "nga.showCell(n=5, ch2show = {'red': \"RFP\", 'green': \"Beta3\"}, show_nucleus = False)"
   ]
  },
  {
   "cell_type": "markdown",
   "id": "1a09a05c",
   "metadata": {},
   "source": [
    "**TO DO**: Order_by feature"
   ]
  },
  {
   "cell_type": "markdown",
   "id": "2346c23e",
   "metadata": {},
   "source": [
    "## Plotting data"
   ]
  },
  {
   "cell_type": "code",
   "execution_count": null,
   "id": "012f8b74",
   "metadata": {},
   "outputs": [],
   "source": [
    "nga.plotData(x = \"nuclear_area\", y = \"avg_intensity_dapi\", hue = \"laminB1_group\")"
   ]
  },
  {
   "cell_type": "code",
   "execution_count": null,
   "id": "d5bc5898",
   "metadata": {},
   "outputs": [],
   "source": [
    "nga.plotData(x = \"nuclear_area\", y = \"avg_intensity_dapi\", x_trans = \"log\", y_trans = \"log\", hue = \"experiment\")"
   ]
  },
  {
   "cell_type": "code",
   "execution_count": null,
   "id": "3ad7c083",
   "metadata": {},
   "outputs": [],
   "source": [
    "nga.plotData(x=\"experiment\", y = \"nuclear_area\", plot_type = \"violin\")"
   ]
  },
  {
   "cell_type": "markdown",
   "id": "144d93f6",
   "metadata": {},
   "source": [
    "Check selection of single cells:"
   ]
  },
  {
   "cell_type": "code",
   "execution_count": null,
   "id": "f1134e27",
   "metadata": {},
   "outputs": [],
   "source": [
    "nga.plotData(\"iNs\", \"isSingleCell\", \n",
    "                hue = \"isSingleCell\", alpha = 0.5, \n",
    "                y_trans = \"log\")"
   ]
  },
  {
   "cell_type": "code",
   "execution_count": null,
   "id": "fa4d9c13",
   "metadata": {},
   "outputs": [],
   "source": [
    "# Keep only single cells\n",
    "nga.filterCells(expr = \"isSingleCell == True\")"
   ]
  },
  {
   "cell_type": "code",
   "execution_count": null,
   "id": "f4dcf011",
   "metadata": {},
   "outputs": [],
   "source": [
    "nga.dim()"
   ]
  },
  {
   "cell_type": "markdown",
   "id": "14c2d0d6",
   "metadata": {},
   "source": [
    "### Intensity Normalisation\n",
    "Statistic-based normalisation of intensity data. **Options are: mode, mean, and median.** *nbins* is used only when method is *mode*. DAPI channel is not normalised."
   ]
  },
  {
   "cell_type": "code",
   "execution_count": null,
   "id": "6e61929a",
   "metadata": {},
   "outputs": [],
   "source": [
    "nga.normIntensity(method = \"mode\", nbins = 100)"
   ]
  },
  {
   "cell_type": "markdown",
   "id": "6a299fac",
   "metadata": {},
   "source": [
    "Observe data before normalisation for a channel. The red line represents the statistical method value used for normalisation."
   ]
  },
  {
   "cell_type": "code",
   "execution_count": null,
   "id": "e44d2593",
   "metadata": {},
   "outputs": [],
   "source": [
    "nga.plotData(\"experiment\", \"avg_intensity_rfp\", plot_type = \"violin\", data_type=\"norm\", hue=\"iNs\")"
   ]
  },
  {
   "cell_type": "markdown",
   "id": "138bfd63",
   "metadata": {},
   "source": [
    "## Data Exploration"
   ]
  },
  {
   "cell_type": "markdown",
   "id": "b3865f59",
   "metadata": {},
   "source": [
    "### Linear relationships"
   ]
  },
  {
   "cell_type": "code",
   "execution_count": null,
   "id": "c86031e2",
   "metadata": {},
   "outputs": [],
   "source": [
    "nga.plotData(\"avg_intensity_core_dapi\", \"nuclear_area\", plot_type = \"line\", hue=\"experiment\", data_type=\"norm\")"
   ]
  },
  {
   "cell_type": "markdown",
   "id": "532ca6de",
   "metadata": {},
   "source": [
    "### Dimension Reduction"
   ]
  },
  {
   "cell_type": "code",
   "execution_count": null,
   "id": "cf3ee666",
   "metadata": {},
   "outputs": [],
   "source": [
    "nga.colnames()"
   ]
  },
  {
   "cell_type": "code",
   "execution_count": null,
   "id": "b9a8d9d3",
   "metadata": {},
   "outputs": [],
   "source": [
    "nga.buildAData(excluded_features=['angle','iNs','total_intensity_core_dapi', 'total_intensity_internal_ring_dapi',\n",
    "                                 'total_intensity_external_ring_dapi', 'total_intensity_dapi', 'total_intensity_rfp',\n",
    "                                 'total_intensity_laminB1', 'total_intensity_beta3', 'beta3_x_rfp', 'beta3_x_laminB1',\n",
    "                                 'rfp_x_laminB1', 'beta3_x_rfp_x_laminB1'])\n",
    "nga.normAData()"
   ]
  },
  {
   "cell_type": "code",
   "execution_count": null,
   "id": "fc25bcb4",
   "metadata": {},
   "outputs": [],
   "source": [
    "nga.showADataVars()\n",
    "nga.showADataObs()"
   ]
  },
  {
   "cell_type": "markdown",
   "id": "7a1860ea",
   "metadata": {},
   "source": [
    "#### UMAP"
   ]
  },
  {
   "cell_type": "code",
   "execution_count": null,
   "id": "d8b2248e",
   "metadata": {},
   "outputs": [],
   "source": [
    "nga.findNeighbours(method = \"umap\")\n",
    "nga.findClusters(method = \"leiden\", res=0.6)\n",
    "nga.runDimReduc(method = \"umap\")"
   ]
  },
  {
   "cell_type": "code",
   "execution_count": null,
   "id": "754751b6",
   "metadata": {},
   "outputs": [],
   "source": [
    "# Plot UMAP showing features\n",
    "nga.plotDim(hue = \"iNs\", method=\"umap\")\n",
    "nga.plotDim(hue = \"leiden\", method=\"umap\")"
   ]
  },
  {
   "cell_type": "markdown",
   "id": "c293d405",
   "metadata": {},
   "source": [
    "#### DIFFMAP"
   ]
  },
  {
   "cell_type": "code",
   "execution_count": null,
   "id": "24c911fe",
   "metadata": {},
   "outputs": [],
   "source": [
    "nga.findNeighbours(method = \"gauss\")\n",
    "nga.findClusters(method = \"leiden\")\n",
    "nga.runDimReduc(method = \"diffmap\")"
   ]
  },
  {
   "cell_type": "code",
   "execution_count": null,
   "id": "6bc72553",
   "metadata": {},
   "outputs": [],
   "source": [
    "nga.plotDim(hue = \"leiden\", method=\"diffmap\")\n",
    "nga.plotDim(hue = \"iNs\", method=\"diffmap\")"
   ]
  },
  {
   "cell_type": "markdown",
   "id": "88f46cfa",
   "metadata": {},
   "source": [
    "#### Pseudotime\n",
    "Choose a root cell for diffusion pseudotime:"
   ]
  },
  {
   "cell_type": "code",
   "execution_count": null,
   "id": "11ff37bd",
   "metadata": {},
   "outputs": [],
   "source": [
    "nga.runPT(root = 3)"
   ]
  },
  {
   "cell_type": "code",
   "execution_count": null,
   "id": "a021f4e4",
   "metadata": {},
   "outputs": [],
   "source": [
    "nga.plotDim(hue = \"dpt_pseudotime\", method=\"diffmap\")"
   ]
  },
  {
   "cell_type": "markdown",
   "id": "484893d7",
   "metadata": {},
   "source": [
    "#### Stacked violin plot"
   ]
  },
  {
   "cell_type": "code",
   "execution_count": null,
   "id": "59a1afe0",
   "metadata": {},
   "outputs": [],
   "source": [
    "fig, ax = plt.subplots(figsize = (5, 7))\n",
    "sc.pl.stacked_violin(adata, data_cols, groupby = 'experiment', swap_axes = True, ax = ax, dendrogram = True)\n",
    "fig.tight_layout()\n",
    "plt.show()"
   ]
  },
  {
   "cell_type": "markdown",
   "id": "75e652a2",
   "metadata": {},
   "source": [
    "#### Pseudotime - heatmap"
   ]
  },
  {
   "cell_type": "code",
   "execution_count": null,
   "id": "a577d901",
   "metadata": {},
   "outputs": [],
   "source": [
    "# Enter order of clusters in pseudotime\n",
    "pseudotime_path = [3,4,7]"
   ]
  },
  {
   "cell_type": "code",
   "execution_count": null,
   "id": "6c26b421",
   "metadata": {},
   "outputs": [],
   "source": [
    "# Heatmap - pseudotime\n",
    "sc.pl.paga_path(\n",
    "    adata, \n",
    "    pseudotime_path, \n",
    "    data_cols,\n",
    "    show_node_names = True,\n",
    "    n_avg = 50,\n",
    "    annotations = ['dpt_pseudotime'],\n",
    "    show_colorbar = True,\n",
    "    color_map = 'coolwarm',\n",
    "    groups_key = 'leiden',\n",
    "    color_maps_annotations = {'dpt_pseudotime': 'viridis'},\n",
    "    title = 'Path',\n",
    "    return_data = False,\n",
    "    normalize_to_zero_one = True,\n",
    "    show = True\n",
    ")"
   ]
  },
  {
   "cell_type": "markdown",
   "id": "9c9fea87",
   "metadata": {},
   "source": [
    "### Save Object"
   ]
  },
  {
   "cell_type": "code",
   "execution_count": null,
   "id": "85b6751c",
   "metadata": {},
   "outputs": [],
   "source": [
    "adata.write(\"/save/path/filename.hdf5\")"
   ]
  }
 ],
 "metadata": {
  "kernelspec": {
   "display_name": "Python 3 (ipykernel)",
   "language": "python",
   "name": "python3"
  },
  "language_info": {
   "codemirror_mode": {
    "name": "ipython",
    "version": 3
   },
   "file_extension": ".py",
   "mimetype": "text/x-python",
   "name": "python",
   "nbconvert_exporter": "python",
   "pygments_lexer": "ipython3",
   "version": "3.10.4"
  }
 },
 "nbformat": 4,
 "nbformat_minor": 5
}
