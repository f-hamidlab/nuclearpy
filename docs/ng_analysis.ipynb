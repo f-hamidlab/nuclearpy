{
 "cells": [
  {
   "cell_type": "markdown",
   "id": "5bac8149",
   "metadata": {},
   "source": [
    "# Analyzing Segmentador data\n",
    "Gabriel Emilio Herrera Oropeza <br>\n",
    "13/06/2022"
   ]
  },
  {
   "cell_type": "markdown",
   "id": "9636b7d7",
   "metadata": {},
   "source": [
    "## *INSTRUCTIONS TO DEVELOPERS*\n",
    "\n",
    "**Make sure to fetch and pull the most updated code and run `pip install .` before using the jupyter notebooks. Codes are constantly being improved and the workflow below work best with the newest version.**"
   ]
  },
  {
   "cell_type": "markdown",
   "id": "7f23794f",
   "metadata": {},
   "source": [
    "This document describes the workflow to analyze data from segmented images that were previously processed by `insert tool name`. We will show how to import, visualise, filter and cluster the data using robust, simple-to-use functions. Many of these functions take up positional arguments that can be modified. To display the usage of these functions, run `help(name_of_function)`.\n",
    "\n",
    "We begin by importing the `tool name` module."
   ]
  },
  {
   "cell_type": "code",
   "execution_count": 12,
   "id": "ab75d390",
   "metadata": {},
   "outputs": [],
   "source": [
    "from ngtools.analyzer import Analyzor,embeddingPlotter"
   ]
  },
  {
   "cell_type": "markdown",
   "id": "a6724212",
   "metadata": {},
   "source": [
    "## Create Analyzor object class\n",
    "\n",
    "We provide an Analyzor object class that facilitates storage of nuclei segmented data and its downstream processing. To construct this object, we can easily pass the path to Segmentador output directory to `Analyzor` class function:"
   ]
  },
  {
   "cell_type": "code",
   "execution_count": 2,
   "id": "10f068f8",
   "metadata": {},
   "outputs": [],
   "source": [
    "path_to_experiments = \"../data/sample_output\"\n",
    "obj = Analyzor(path_to_experiments)"
   ]
  },
  {
   "cell_type": "markdown",
   "id": "b7f2c042",
   "metadata": {},
   "source": [
    "### Preview data"
   ]
  },
  {
   "cell_type": "markdown",
   "id": "2fb07376",
   "metadata": {},
   "source": [
    "You may extract information from the Analyzor object in many ways. Below are some useful functions:"
   ]
  },
  {
   "cell_type": "code",
   "execution_count": null,
   "id": "aebd47d5",
   "metadata": {},
   "outputs": [],
   "source": [
    "# print out number of cells\n",
    "obj.ncells()\n",
    "\n",
    "# print out features from Segmentador\n",
    "obj.features()\n",
    "\n",
    "# preview data\n",
    "obj.showData()\n",
    "obj.showData([\"cellID\", \"avg_intensity_dapi\"])"
   ]
  },
  {
   "cell_type": "markdown",
   "id": "a5494069",
   "metadata": {},
   "source": [
    "### Plot data"
   ]
  },
  {
   "cell_type": "markdown",
   "id": "eedd8bd8",
   "metadata": {},
   "source": [
    "Data from Analyzor object can be visualised using scatterplot, violinplot or lineplot. For example, to plot a scatterplot of `nuclear_area` against `avg_intensity_dapi`, you can run:"
   ]
  },
  {
   "cell_type": "code",
   "execution_count": null,
   "id": "e8b5406e",
   "metadata": {},
   "outputs": [],
   "source": [
    "obj.plotData(x = \"nuclear_area\", y = \"avg_intensity_dapi\",\n",
    "            plot_type = \"scatter\", hue = None)"
   ]
  },
  {
   "cell_type": "markdown",
   "id": "9fb42157",
   "metadata": {},
   "source": [
    "You may color cells by any categorical variable in your data by providing a feature name to the `hue` parameter. The x- and y-axis can be transformed and the order of the cells can be shuffled. Run `help(obj.plotData)` for a guide."
   ]
  },
  {
   "cell_type": "markdown",
   "id": "67e02f4a",
   "metadata": {},
   "source": [
    "### Show cell images\n",
    "\n",
    "The Analyzor object holds the path to the image of each cells and has the ability to display this image.\n",
    "Simply run the `showCell` function:"
   ]
  },
  {
   "cell_type": "code",
   "execution_count": null,
   "id": "cda1b28f",
   "metadata": {},
   "outputs": [],
   "source": [
    "obj.showCell()"
   ]
  },
  {
   "cell_type": "markdown",
   "id": "d33b96f8",
   "metadata": {},
   "source": [
    "Running the above function without any input parameters will invoke an interactive prompt. Alternatiely, you may provide the number of cells and channels to display as such:"
   ]
  },
  {
   "cell_type": "code",
   "execution_count": null,
   "id": "f87f1b0f",
   "metadata": {},
   "outputs": [],
   "source": [
    "obj.showCell(n=5, ch2show = {'red': \"RFP\", 'green': \"Beta3\"})"
   ]
  },
  {
   "cell_type": "markdown",
   "id": "58e97be3",
   "metadata": {},
   "source": [
    "To maximise the use of RGB channels, `showCell` will show the DAPI/nucleus as a separate layer by default. This can be switched off using the `show_nucleus` flag:"
   ]
  },
  {
   "cell_type": "code",
   "execution_count": null,
   "id": "9e1e31f1",
   "metadata": {},
   "outputs": [],
   "source": [
    "obj.showCell(n=5, ch2show = {'red': \"RFP\", 'green': \"Beta3\"}, show_nucleus = False)"
   ]
  },
  {
   "cell_type": "markdown",
   "id": "6fa44836",
   "metadata": {},
   "source": [
    "## Data preprocessing"
   ]
  },
  {
   "cell_type": "markdown",
   "id": "28df7c22",
   "metadata": {},
   "source": [
    "### Center DAPI intensity"
   ]
  },
  {
   "cell_type": "code",
   "execution_count": 3,
   "id": "94a4bb41",
   "metadata": {},
   "outputs": [
    {
     "data": {
      "image/png": "[encoded data removed]",
      "text/plain": [
       "<Figure size 432x432 with 1 Axes>"
      ]
     },
     "metadata": {
      "needs_background": "light"
     },
     "output_type": "display_data"
    }
   ],
   "source": [
    "obj.ctrDAPI()"
   ]
  },
  {
   "cell_type": "markdown",
   "id": "1cdd5c75",
   "metadata": {},
   "source": [
    "### Identify Single Cells\n",
    "Identify single cells based on DNA marker content."
   ]
  },
  {
   "cell_type": "code",
   "execution_count": 4,
   "id": "03afa8b3",
   "metadata": {},
   "outputs": [
    {
     "name": "stderr",
     "output_type": "stream",
     "text": [
      "100%|███████████████████████████████████████| 2/2 [00:00<00:00, 29.23it/s]\n"
     ]
    }
   ],
   "source": [
    "obj.findSingleCells()"
   ]
  },
  {
   "cell_type": "markdown",
   "id": "3e9a5f31",
   "metadata": {},
   "source": [
    "### Normalize channel intensities"
   ]
  },
  {
   "cell_type": "code",
   "execution_count": 5,
   "id": "8906fcf7",
   "metadata": {},
   "outputs": [
    {
     "name": "stderr",
     "output_type": "stream",
     "text": [
      "100%|███████████████████████████████████████| 2/2 [00:00<00:00,  8.36it/s]\n"
     ]
    }
   ],
   "source": [
    "obj.normIntensity(method = \"mode\", nbins = 100)"
   ]
  },
  {
   "cell_type": "markdown",
   "id": "1a09a05c",
   "metadata": {},
   "source": [
    "**TO DO**: Order_by feature"
   ]
  },
  {
   "cell_type": "markdown",
   "id": "10395c7a",
   "metadata": {},
   "source": [
    "### Filter cells"
   ]
  },
  {
   "cell_type": "code",
   "execution_count": 6,
   "id": "fa4d9c13",
   "metadata": {},
   "outputs": [],
   "source": [
    "# Keep only single cells\n",
    "obj.filterCells(expr = \"isSingleCell == True\")"
   ]
  },
  {
   "cell_type": "markdown",
   "id": "14c2d0d6",
   "metadata": {},
   "source": [
    "### Intensity Normalisation\n",
    "Statistic-based normalisation of intensity data. **Options are: mode, mean, and median.** *nbins* is used only when method is *mode*. DAPI channel is not normalised."
   ]
  },
  {
   "cell_type": "code",
   "execution_count": 8,
   "id": "6e61929a",
   "metadata": {},
   "outputs": [
    {
     "name": "stderr",
     "output_type": "stream",
     "text": [
      "100%|███████████████████████████████████████| 2/2 [00:00<00:00, 20.48it/s]\n"
     ]
    }
   ],
   "source": [
    "obj.normIntensity(method = \"mode\", nbins = 100)"
   ]
  },
  {
   "cell_type": "markdown",
   "id": "6a299fac",
   "metadata": {},
   "source": [
    "Observe data before normalisation for a channel. The red line represents the statistical method value used for normalisation."
   ]
  },
  {
   "cell_type": "code",
   "execution_count": null,
   "id": "e44d2593",
   "metadata": {},
   "outputs": [],
   "source": [
    "obj.plotData(\"experiment\", \"avg_intensity_rfp\", plot_type = \"violin\", data_type=\"norm\", hue=\"iNs\")"
   ]
  },
  {
   "cell_type": "markdown",
   "id": "138bfd63",
   "metadata": {},
   "source": [
    "## Dimensional reduction and clustering"
   ]
  },
  {
   "cell_type": "code",
   "execution_count": 9,
   "id": "b9a8d9d3",
   "metadata": {},
   "outputs": [],
   "source": [
    "obj.buildAData()\n",
    "obj.normAData()"
   ]
  },
  {
   "cell_type": "code",
   "execution_count": null,
   "id": "fc25bcb4",
   "metadata": {},
   "outputs": [],
   "source": [
    "obj.showADataVars()\n",
    "obj.showADataObs()"
   ]
  },
  {
   "cell_type": "code",
   "execution_count": 10,
   "id": "d8b2248e",
   "metadata": {},
   "outputs": [
    {
     "name": "stdout",
     "output_type": "stream",
     "text": [
      "computing neighbors\n",
      "    finished: added to `.uns['neighbors']`\n",
      "    `.obsp['distances']`, distances for each pair of neighbors\n",
      "    `.obsp['connectivities']`, weighted adjacency matrix (0:00:05)\n",
      "running Leiden clustering\n",
      "    finished: found 6 clusters and added\n",
      "    'leiden', the cluster labels (adata.obs, categorical) (0:00:00)\n",
      "computing UMAP\n",
      "    finished: added\n",
      "    'X_umap', UMAP coordinates (adata.obsm) (0:00:01)\n"
     ]
    }
   ],
   "source": [
    "obj.findNeighbours(method = \"umap\")\n",
    "obj.findClusters(method = \"leiden\", res=0.6)\n",
    "obj.runDimReduc(method = \"umap\")"
   ]
  },
  {
   "cell_type": "code",
   "execution_count": 14,
   "id": "f59ecc8f",
   "metadata": {},
   "outputs": [
    {
     "data": {
      "application/vnd.jupyter.widget-view+json": {
       "model_id": "0e398f6597bd4d8f87c015c531a0082b",
       "version_major": 2,
       "version_minor": 0
      },
      "text/plain": [
       "FigureWidget({\n",
       "    'data': [{'marker': {'size': 20},\n",
       "              'mode': 'markers',\n",
       "              'type': 's…"
      ]
     },
     "metadata": {},
     "output_type": "display_data"
    }
   ],
   "source": [
    "f,t = embeddingPlotter(obj.adata)\n",
    "f"
   ]
  },
  {
   "cell_type": "code",
   "execution_count": 16,
   "id": "c4fc02eb",
   "metadata": {},
   "outputs": [
    {
     "data": {
      "application/vnd.jupyter.widget-view+json": {
       "model_id": "8433379a80904ece8eaeff1c3089a252",
       "version_major": 2,
       "version_minor": 0
      },
      "text/plain": [
       "FigureWidget({\n",
       "    'data': [{'cells': {'align': [left, left, left, left, left],\n",
       "                        'fill'…"
      ]
     },
     "metadata": {},
     "output_type": "display_data"
    }
   ],
   "source": [
    "t"
   ]
  },
  {
   "cell_type": "code",
   "execution_count": null,
   "id": "754751b6",
   "metadata": {},
   "outputs": [],
   "source": [
    "# Plot UMAP showing features\n",
    "nga.plotDim(hue = \"iNs\", method=\"umap\")\n",
    "nga.plotDim(hue = \"leiden\", method=\"umap\")"
   ]
  },
  {
   "cell_type": "markdown",
   "id": "c293d405",
   "metadata": {},
   "source": [
    "#### DIFFMAP"
   ]
  },
  {
   "cell_type": "code",
   "execution_count": null,
   "id": "24c911fe",
   "metadata": {},
   "outputs": [],
   "source": [
    "nga.findNeighbours(method = \"gauss\")\n",
    "nga.findClusters(method = \"leiden\")\n",
    "nga.runDimReduc(method = \"diffmap\")"
   ]
  },
  {
   "cell_type": "code",
   "execution_count": null,
   "id": "6bc72553",
   "metadata": {},
   "outputs": [],
   "source": [
    "nga.plotDim(hue = \"leiden\", method=\"diffmap\")\n",
    "nga.plotDim(hue = \"iNs\", method=\"diffmap\")"
   ]
  },
  {
   "cell_type": "markdown",
   "id": "88f46cfa",
   "metadata": {},
   "source": [
    "#### Pseudotime\n",
    "Choose a root cell for diffusion pseudotime:"
   ]
  },
  {
   "cell_type": "code",
   "execution_count": null,
   "id": "11ff37bd",
   "metadata": {},
   "outputs": [],
   "source": [
    "nga.runPT(root = 3)"
   ]
  },
  {
   "cell_type": "code",
   "execution_count": null,
   "id": "a021f4e4",
   "metadata": {},
   "outputs": [],
   "source": [
    "nga.plotDim(hue = \"dpt_pseudotime\", method=\"diffmap\")"
   ]
  },
  {
   "cell_type": "markdown",
   "id": "484893d7",
   "metadata": {},
   "source": [
    "#### Stacked violin plot"
   ]
  },
  {
   "cell_type": "code",
   "execution_count": null,
   "id": "59a1afe0",
   "metadata": {},
   "outputs": [],
   "source": [
    "fig, ax = plt.subplots(figsize = (5, 7))\n",
    "sc.pl.stacked_violin(adata, data_cols, groupby = 'experiment', swap_axes = True, ax = ax, dendrogram = True)\n",
    "fig.tight_layout()\n",
    "plt.show()"
   ]
  },
  {
   "cell_type": "markdown",
   "id": "75e652a2",
   "metadata": {},
   "source": [
    "#### Pseudotime - heatmap"
   ]
  },
  {
   "cell_type": "code",
   "execution_count": null,
   "id": "a577d901",
   "metadata": {},
   "outputs": [],
   "source": [
    "# Enter order of clusters in pseudotime\n",
    "pseudotime_path = [3,4,7]"
   ]
  },
  {
   "cell_type": "code",
   "execution_count": null,
   "id": "6c26b421",
   "metadata": {},
   "outputs": [],
   "source": [
    "# Heatmap - pseudotime\n",
    "sc.pl.paga_path(\n",
    "    adata, \n",
    "    pseudotime_path, \n",
    "    data_cols,\n",
    "    show_node_names = True,\n",
    "    n_avg = 50,\n",
    "    annotations = ['dpt_pseudotime'],\n",
    "    show_colorbar = True,\n",
    "    color_map = 'coolwarm',\n",
    "    groups_key = 'leiden',\n",
    "    color_maps_annotations = {'dpt_pseudotime': 'viridis'},\n",
    "    title = 'Path',\n",
    "    return_data = False,\n",
    "    normalize_to_zero_one = True,\n",
    "    show = True\n",
    ")"
   ]
  },
  {
   "cell_type": "markdown",
   "id": "9c9fea87",
   "metadata": {},
   "source": [
    "### Save Object"
   ]
  },
  {
   "cell_type": "code",
   "execution_count": null,
   "id": "85b6751c",
   "metadata": {},
   "outputs": [],
   "source": [
    "adata.write(\"/save/path/filename.hdf5\")"
   ]
  }
 ],
 "metadata": {
  "kernelspec": {
   "display_name": "Python 3 (ipykernel)",
   "language": "python",
   "name": "python3"
  },
  "language_info": {
   "codemirror_mode": {
    "name": "ipython",
    "version": 3
   },
   "file_extension": ".py",
   "mimetype": "text/x-python",
   "name": "python",
   "nbconvert_exporter": "python",
   "pygments_lexer": "ipython3",
   "version": "3.8.13"
  }
 },
 "nbformat": 4,
 "nbformat_minor": 5
}
