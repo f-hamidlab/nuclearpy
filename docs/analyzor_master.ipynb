{
 "cells": [
  {
   "cell_type": "markdown",
   "id": "57575b24",
   "metadata": {
    "pycharm": {
     "name": "#%% md\n"
    }
   },
   "source": [
    "## DO NOT TOUCH THIS MASTER VERSION OF THE NOTEBOOK. Create a duplicate notebook with your own copy name (e.g. marcelo_segmentador.ipynb) for your own usage\n"
   ]
  },
  {
   "cell_type": "markdown",
   "id": "5bac8149",
   "metadata": {
    "pycharm": {
     "name": "#%% md\n"
    }
   },
   "source": [
    "# Analyzing Segmentador data\n",
    "Gabriel Emilio Herrera Oropeza <br>\n",
    "13/06/2022"
   ]
  },
  {
   "cell_type": "markdown",
   "id": "9636b7d7",
   "metadata": {
    "pycharm": {
     "name": "#%% md\n"
    }
   },
   "source": [
    "## *INSTRUCTIONS TO DEVELOPERS*\n",
    "\n",
    "**Make sure to fetch and pull the most updated code and run `pip install .` before using the jupyter notebooks. Codes are constantly being improved and the workflow below work best with the newest version.**"
   ]
  },
  {
   "cell_type": "markdown",
   "id": "7f23794f",
   "metadata": {
    "pycharm": {
     "name": "#%% md\n"
    }
   },
   "source": [
    "This document describes the workflow to analyze data from segmented images that were previously processed by `insert tool name`. We will show how to import, visualise, filter and cluster the data using robust, simple-to-use functions. Many of these functions take up positional arguments that can be modified. To display the usage of these functions, run `help(name_of_function)`.\n",
    "\n",
    "We begin by importing the `tool name` module."
   ]
  },
  {
   "cell_type": "code",
   "execution_count": null,
   "id": "ab75d390",
   "metadata": {
    "pycharm": {
     "name": "#%%\n"
    }
   },
   "outputs": [],
   "source": [
    "from ngtools.analyzer import Analyzor"
   ]
  },
  {
   "cell_type": "markdown",
   "id": "a6724212",
   "metadata": {
    "pycharm": {
     "name": "#%% md\n"
    }
   },
   "source": [
    "## Create Analyzor object class\n",
    "\n",
    "We provide an Analyzor object class that facilitates storage of nuclei segmented data and its downstream processing. To construct this object, we can easily pass the path to Segmentador output directory to `Analyzor` class function:"
   ]
  },
  {
   "cell_type": "code",
   "execution_count": null,
   "id": "10f068f8",
   "metadata": {
    "pycharm": {
     "name": "#%%\n"
    }
   },
   "outputs": [],
   "source": [
    "path_to_experiments = \"../data/sample_output\"\n",
    "obj = Analyzor(path_to_experiments, pattern=\"output*.csv\", collated_csv=None)"
   ]
  },
  {
   "cell_type": "markdown",
   "id": "d31f2b76",
   "metadata": {
    "pycharm": {
     "name": "#%% md\n"
    }
   },
   "source": [
    "## Data preprocessing"
   ]
  },
  {
   "cell_type": "markdown",
   "id": "0f8f0258",
   "metadata": {
    "pycharm": {
     "name": "#%% md\n"
    }
   },
   "source": [
    "### Normalize DAPI intensity"
   ]
  },
  {
   "cell_type": "code",
   "execution_count": null,
   "id": "0ae7ef77",
   "metadata": {
    "pycharm": {
     "name": "#%%\n"
    }
   },
   "outputs": [],
   "source": [
    "obj.normChannel(channel = \"dapi\", method = \"mode\", nbins = 100, intensity_type = \"total\")"
   ]
  },
  {
   "cell_type": "markdown",
   "id": "afe81973",
   "metadata": {
    "pycharm": {
     "name": "#%% md\n"
    }
   },
   "source": [
    "### Select single cells\n",
    "Identify single cells based on DNA marker content. (Here we have to give the option to select the range of the spread we want to have from sum of DAPI intensity. You can see blebb and no Blebb have different spreading."
   ]
  },
  {
   "cell_type": "code",
   "execution_count": null,
   "id": "ca26fc11",
   "metadata": {
    "pycharm": {
     "name": "#%%\n"
    }
   },
   "outputs": [],
   "source": [
    "obj.findSingleCells(byExperiment = True, nbins = 100, spread = 0.4, channel = None)"
   ]
  },
  {
   "cell_type": "code",
   "execution_count": null,
   "id": "bd0a39eb",
   "metadata": {
    "pycharm": {
     "name": "#%%\n"
    }
   },
   "outputs": [],
   "source": [
    "# Keep only single cells\n",
    "obj.filterCells(filter = \"isSingleCell == True\", inplace = True)"
   ]
  },
  {
   "cell_type": "markdown",
   "id": "15b0de7a",
   "metadata": {
    "pycharm": {
     "name": "#%% md\n"
    }
   },
   "source": [
    "### Normalize channel intensities"
   ]
  },
  {
   "cell_type": "code",
   "execution_count": null,
   "id": "18a7e97c",
   "metadata": {
    "pycharm": {
     "name": "#%%\n"
    }
   },
   "outputs": [],
   "source": [
    "obj.normChannel(channel = \"beta3\", method = \"mode\", nbins = 100, intensity_type = \"avg\")\n",
    "obj.normChannel(channel = \"rfp\", method = \"mode\", nbins = 100, intensity_type = \"avg\")\n",
    "obj.normChannel(channel = \"ngn\", method = \"mode\", nbins = 100, intensity_type = \"avg\")"
   ]
  },
  {
   "cell_type": "markdown",
   "id": "912613cb",
   "metadata": {
    "pycharm": {
     "name": "#%% md\n"
    }
   },
   "source": [
    "### Filter cells"
   ]
  },
  {
   "cell_type": "code",
   "execution_count": null,
   "id": "19f02427",
   "metadata": {
    "pycharm": {
     "name": "#%%\n"
    }
   },
   "outputs": [],
   "source": [
    "obj.count([\"laminB1_group\",\"gfap_group\"])"
   ]
  },
  {
   "cell_type": "code",
   "execution_count": null,
   "id": "142de8e1",
   "metadata": {
    "pycharm": {
     "name": "#%%\n"
    }
   },
   "outputs": [],
   "source": [
    "%matplotlib tk\n",
    "chosen_cells = obj.chooseCells(x = \"rfp_group\", y = \"beta3_group\")"
   ]
  },
  {
   "cell_type": "code",
   "execution_count": null,
   "id": "95e2d8d6",
   "metadata": {
    "pycharm": {
     "name": "#%%\n"
    }
   },
   "outputs": [],
   "source": [
    "%matplotlib inline"
   ]
  },
  {
   "cell_type": "code",
   "execution_count": null,
   "id": "4bb744e5",
   "metadata": {
    "pycharm": {
     "name": "#%%\n"
    }
   },
   "outputs": [],
   "source": [
    "obj.showCells(cells = chosen_cells, n=10, ch2show = {'red': \"rfp\", 'green': \"beta3\"}, \n",
    "              order_by = \"avg_intensity_rfp\", ascending = True, \n",
    "             filter = None, show_nucleus = False)"
   ]
  },
  {
   "cell_type": "code",
   "execution_count": null,
   "id": "28e5394a",
   "metadata": {
    "pycharm": {
     "name": "#%%\n"
    }
   },
   "outputs": [],
   "source": [
    "obj.filterCells(cells = chosen_cells)"
   ]
  },
  {
   "cell_type": "code",
   "execution_count": null,
   "id": "0dfe43bd",
   "metadata": {
    "pycharm": {
     "name": "#%%\n"
    }
   },
   "outputs": [],
   "source": [
    "obj.count([\"laminB1_group\",\"gfap_group\"])"
   ]
  },
  {
   "cell_type": "markdown",
   "id": "47709a05",
   "metadata": {
    "pycharm": {
     "name": "#%% md\n"
    }
   },
   "source": [
    "## Dimensional reduction and clustering"
   ]
  },
  {
   "cell_type": "markdown",
   "id": "f26521de",
   "metadata": {
    "pycharm": {
     "name": "#%% md\n"
    }
   },
   "source": [
    "### Prepare matrix\n",
    "\n",
    "Below are the nuclear features used for dimensional reduction"
   ]
  },
  {
   "cell_type": "code",
   "execution_count": null,
   "id": "b237b208",
   "metadata": {
    "pycharm": {
     "name": "#%%\n"
    }
   },
   "outputs": [],
   "source": [
    "obj.showADataVars()\n"
   ]
  },
  {
   "cell_type": "code",
   "execution_count": null,
   "id": "ecdcae8c",
   "metadata": {
    "pycharm": {
     "name": "#%%\n"
    }
   },
   "outputs": [],
   "source": [
    "exclude_feat = ['total_intensity_laminB1', 'gfap_x_actin', 'gfap_x_laminB1', 'actin_x_laminB1', 'gfap_x_actin_x_laminB1',\n",
    "               'total_intensity_gfap', 'total_intensity_actin','total_intensity_dapi', 'total_intensity_core_dapi', \n",
    "                'total_intensity_internal_ring_dapi', 'total_intensity_external_ring_dapi']\n",
    "obj.excludeVars(vars = exclude_feat)\n",
    "obj.showADataVars()"
   ]
  },
  {
   "cell_type": "code",
   "execution_count": null,
   "id": "cdf7107b",
   "metadata": {
    "pycharm": {
     "name": "#%%\n"
    }
   },
   "outputs": [],
   "source": [
    "## This graphic should be before"
   ]
  },
  {
   "cell_type": "code",
   "execution_count": null,
   "id": "9d08991d",
   "metadata": {
    "pycharm": {
     "name": "#%%\n"
    }
   },
   "outputs": [],
   "source": [
    "obj.plotVarDist(vars = \"all\", data_type=\"scaled\")"
   ]
  },
  {
   "cell_type": "code",
   "execution_count": null,
   "id": "a4efcda8",
   "metadata": {
    "pycharm": {
     "name": "#%%\n"
    }
   },
   "outputs": [],
   "source": [
    "# optional rescaling\n",
    "obj.normAData(method = \"maxabsscaler\")"
   ]
  },
  {
   "cell_type": "markdown",
   "id": "66efd1ce",
   "metadata": {
    "pycharm": {
     "name": "#%% md\n"
    }
   },
   "source": [
    "### Cluster and dim reduction"
   ]
  },
  {
   "cell_type": "code",
   "execution_count": null,
   "id": "adf79c9d",
   "metadata": {
    "pycharm": {
     "name": "#%%\n"
    }
   },
   "outputs": [],
   "source": [
    "obj.findNeighbours(method = \"umap\")\n",
    "obj.findClusters(method = \"leiden\", res=0.6)\n",
    "obj.runDimReduc(method = \"umap\")"
   ]
  },
  {
   "cell_type": "code",
   "execution_count": null,
   "id": "82b1dc0d",
   "metadata": {
    "pycharm": {
     "name": "#%%\n"
    }
   },
   "outputs": [],
   "source": [
    "# Plot UMAP showing features\n",
    "obj.plotDim(hue = \"leiden\", method=\"umap\")"
   ]
  },
  {
   "cell_type": "code",
   "execution_count": null,
   "id": "0edf8705",
   "metadata": {
    "pycharm": {
     "name": "#%%\n"
    }
   },
   "outputs": [],
   "source": [
    "obj.plotDim(hue = \"avg_intensity_rfp\", method=\"umap\")"
   ]
  },
  {
   "cell_type": "code",
   "execution_count": null,
   "id": "ba5c1885",
   "metadata": {
    "pycharm": {
     "name": "#%%\n"
    }
   },
   "outputs": [],
   "source": [
    "obj.plotData(x=\"leiden\", y = \"avg_intensity_laminB1\", plot_type = \"violin\")"
   ]
  },
  {
   "cell_type": "code",
   "execution_count": null,
   "id": "52417cad",
   "metadata": {
    "pycharm": {
     "name": "#%%\n"
    }
   },
   "outputs": [],
   "source": [
    "obj.showCells(RGB_contrasts=[4,3,4], n=5, ch2show={'red':'laminB1', 'green':'gfap'}, filter = \"leiden == '0'\")"
   ]
  },
  {
   "cell_type": "code",
   "execution_count": null,
   "id": "754751b6",
   "metadata": {
    "pycharm": {
     "name": "#%%\n"
    },
    "scrolled": true
   },
   "outputs": [],
   "source": [
    "# Plot UMAP showing features\n",
    "obj.plotDim(hue = \"leiden\", method=\"umap\")"
   ]
  },
  {
   "cell_type": "code",
   "execution_count": null,
   "id": "30420a08",
   "metadata": {
    "pycharm": {
     "name": "#%%\n"
    }
   },
   "outputs": [],
   "source": [
    "obj.plotDim(hue = \"avg_intensity_rfp\", method=\"umap\")"
   ]
  },
  {
   "cell_type": "code",
   "execution_count": null,
   "id": "afffce60",
   "metadata": {
    "pycharm": {
     "name": "#%%\n"
    }
   },
   "outputs": [],
   "source": [
    "obj.plotData(x=\"leiden\", y = \"avg_intensity_rfp\", plot_type = \"violin\")"
   ]
  },
  {
   "cell_type": "code",
   "execution_count": null,
   "id": "31ee5688",
   "metadata": {
    "pycharm": {
     "name": "#%%\n"
    }
   },
   "outputs": [],
   "source": [
    "obj.showCell(RGB_contrasts=[4,3,4], n=5, ch2show={'red':'rfp', 'green':'beta3'}, filter = \"leiden == '0'\")"
   ]
  },
  {
   "cell_type": "markdown",
   "id": "c293d405",
   "metadata": {
    "pycharm": {
     "name": "#%% md\n"
    }
   },
   "source": [
    "#### DIFFMAP"
   ]
  },
  {
   "cell_type": "code",
   "execution_count": null,
   "id": "24c911fe",
   "metadata": {
    "pycharm": {
     "name": "#%%\n"
    }
   },
   "outputs": [],
   "source": [
    "obj.findNeighbours(method = \"umap\")\n",
    "obj.findClusters(method = \"leiden\")\n",
    "obj.runDimReduc(method = \"diffmap\")"
   ]
  },
  {
   "cell_type": "code",
   "execution_count": null,
   "id": "6bc72553",
   "metadata": {
    "pycharm": {
     "name": "#%%\n"
    }
   },
   "outputs": [],
   "source": [
    "obj.plotDim(hue = \"leiden\", method=\"diffmap\")"
   ]
  },
  {
   "cell_type": "code",
   "execution_count": null,
   "id": "2569ae6e",
   "metadata": {
    "pycharm": {
     "name": "#%%\n"
    }
   },
   "outputs": [],
   "source": [
    "obj.plotDim(hue = \"avg_intensity_gfap\", method=\"diffmap\")"
   ]
  },
  {
   "cell_type": "markdown",
   "id": "88f46cfa",
   "metadata": {
    "pycharm": {
     "name": "#%% md\n"
    }
   },
   "source": [
    "#### Pseudotime\n",
    "Choose a root cell for diffusion pseudotime:"
   ]
  },
  {
   "cell_type": "code",
   "execution_count": null,
   "id": "5a3437cb",
   "metadata": {
    "pycharm": {
     "name": "#%%\n"
    }
   },
   "outputs": [],
   "source": [
    "%matplotlib tk\n",
    "root_cells = obj.chooseCells(reduction = \"diffmap\")"
   ]
  },
  {
   "cell_type": "code",
   "execution_count": null,
   "id": "ceb00f3c",
   "metadata": {
    "pycharm": {
     "name": "#%%\n"
    }
   },
   "outputs": [],
   "source": [
    "%matplotlib inline"
   ]
  },
  {
   "cell_type": "code",
   "execution_count": null,
   "id": "11ff37bd",
   "metadata": {
    "pycharm": {
     "name": "#%%\n"
    }
   },
   "outputs": [],
   "source": [
    "obj.runPT(root_cells = root_cells)"
   ]
  },
  {
   "cell_type": "code",
   "execution_count": null,
   "id": "a021f4e4",
   "metadata": {
    "pycharm": {
     "name": "#%%\n"
    }
   },
   "outputs": [],
   "source": [
    "obj.plotDim(hue = \"dpt_pseudotime\", method=\"diffmap\")"
   ]
  },
  {
   "cell_type": "markdown",
   "id": "484893d7",
   "metadata": {
    "pycharm": {
     "name": "#%% md\n"
    }
   },
   "source": [
    "#### Stacked violin plot"
   ]
  },
  {
   "cell_type": "code",
   "execution_count": null,
   "id": "59a1afe0",
   "metadata": {
    "pycharm": {
     "name": "#%%\n"
    }
   },
   "outputs": [],
   "source": [
    "fig, ax = plt.subplots(figsize = (5, 7))\n",
    "sc.pl.stacked_violin(adata, data_cols, groupby = 'experiment', swap_axes = True, ax = ax, dendrogram = True)\n",
    "fig.tight_layout()\n",
    "plt.show()"
   ]
  },
  {
   "cell_type": "markdown",
   "id": "75e652a2",
   "metadata": {
    "pycharm": {
     "name": "#%% md\n"
    }
   },
   "source": [
    "#### Pseudotime - heatmap"
   ]
  },
  {
   "cell_type": "code",
   "execution_count": null,
   "id": "a577d901",
   "metadata": {
    "pycharm": {
     "name": "#%%\n"
    }
   },
   "outputs": [],
   "source": [
    "# Enter order of clusters in pseudotime\n",
    "pseudotime_path = [3,4,7]"
   ]
  },
  {
   "cell_type": "code",
   "execution_count": null,
   "id": "6c26b421",
   "metadata": {
    "pycharm": {
     "name": "#%%\n"
    }
   },
   "outputs": [],
   "source": [
    "# Heatmap - pseudotime\n",
    "sc.pl.paga_path(\n",
    "    adata, \n",
    "    pseudotime_path, \n",
    "    data_cols,\n",
    "    show_node_names = True,\n",
    "    n_avg = 50,\n",
    "    annotations = ['dpt_pseudotime'],\n",
    "    show_colorbar = True,\n",
    "    color_map = 'coolwarm',\n",
    "    groups_key = 'leiden',\n",
    "    color_maps_annotations = {'dpt_pseudotime': 'viridis'},\n",
    "    title = 'Path',\n",
    "    return_data = False,\n",
    "    normalize_to_zero_one = True,\n",
    "    show = True\n",
    ")"
   ]
  },
  {
   "cell_type": "markdown",
   "id": "9c9fea87",
   "metadata": {
    "pycharm": {
     "name": "#%% md\n"
    }
   },
   "source": [
    "### Save Object"
   ]
  }
 ],
 "metadata": {
  "kernelspec": {
   "display_name": "Python 3 (ipykernel)",
   "language": "python",
   "name": "python3"
  },
  "language_info": {
   "codemirror_mode": {
    "name": "ipython",
    "version": 3
   },
   "file_extension": ".py",
   "mimetype": "text/x-python",
   "name": "python",
   "nbconvert_exporter": "python",
   "pygments_lexer": "ipython3",
   "version": "3.8.13"
  }
 },
 "nbformat": 4,
 "nbformat_minor": 5
}