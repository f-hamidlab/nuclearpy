{
 "cells": [
  {
   "cell_type": "markdown",
   "metadata": {
    "pycharm": {
     "name": "#%% md\n"
    }
   },
   "source": [
    "### DO NOT TOUCH THIS MASTER VERSION OF THE NOTEBOOK. Create a duplicate notebook with your own copy name (e.g. marcelo_segmentador.ipynb) for your own usage"
   ]
  },
  {
   "cell_type": "markdown",
   "metadata": {
    "pycharm": {
     "name": "#%% md\n"
    }
   },
   "source": [
    "# Batch segmentation\n",
    "\n",
    "The code block below contain a wrapper function to perform nuclei segmentation on a batch of experiments.\n",
    "\n",
    "<br>\n",
    "<br>\n",
    "*Tip on experiments with different channel config:*\n",
    "\n",
    "Format names of experiment directory as such: \"AnyName_Channel1,Channel2,Channel3,Channel4\"\n",
    "and set `channelsinname` to `True`. `Segmentador` will read parse the channels from directory\n",
    "name and assign channel names accordingly"
   ]
  },
  {
   "cell_type": "code",
   "execution_count": 3,
   "metadata": {
    "pycharm": {
     "name": "#%%\n"
    }
   },
   "outputs": [
    {
     "name": "stderr",
     "output_type": "stream",
     "text": [
      "<tifffile.TiffFile 'Week_2_C7-D9_1_M…-Site_0.ome.tif'> OME series is BinaryOnly, not an OME-TIFF master file \n",
      "<tifffile.TiffFile 'Week_2_C7-D9_1_M…-Site_1.ome.tif'> OME series is BinaryOnly, not an OME-TIFF master file \n",
      "<tifffile.TiffFile 'Week_2_C7-D9_1_M…-Site_2.ome.tif'> OME series is BinaryOnly, not an OME-TIFF master file \n"
     ]
    },
    {
     "name": "stdout",
     "output_type": "stream",
     "text": [
      "Analysing /Users/m./Downloads/Images for Marcelo/Week 2\n",
      "Files imported:\n",
      "\tWeek_2_C7-D9_1_MMStack_D8-Site_0.ome (format: .TIF)\n",
      "\tWeek_2_C7-D9_1_MMStack_C8-Site_1.ome (format: .TIF)\n",
      "\tWeek_2_C7-D9_1_MMStack_D9-Site_2.ome (format: .TIF)\n"
     ]
    },
    {
     "ename": "IndexError",
     "evalue": "list index out of range",
     "output_type": "error",
     "traceback": [
      "\u001b[0;31m---------------------------------------------------------------------------\u001b[0m",
      "\u001b[0;31mIndexError\u001b[0m                                Traceback (most recent call last)",
      "Input \u001b[0;32mIn [3]\u001b[0m, in \u001b[0;36m<cell line: 3>\u001b[0;34m()\u001b[0m\n\u001b[1;32m      1\u001b[0m \u001b[38;5;28;01mfrom\u001b[39;00m \u001b[38;5;21;01mngtools\u001b[39;00m\u001b[38;5;21;01m.\u001b[39;00m\u001b[38;5;21;01mwrappers\u001b[39;00m \u001b[38;5;28;01mimport\u001b[39;00m batch_Segmentador\n\u001b[0;32m----> 3\u001b[0m \u001b[43mbatch_Segmentador\u001b[49m\u001b[43m(\u001b[49m\n\u001b[1;32m      4\u001b[0m \u001b[43m       \u001b[49m\u001b[38;5;28;43mdir\u001b[39;49m\u001b[43m \u001b[49m\u001b[38;5;241;43m=\u001b[39;49m\u001b[43m \u001b[49m\u001b[38;5;124;43m\"\u001b[39;49m\u001b[38;5;124;43m/Users/m./Downloads/Images for Marcelo/\u001b[39;49m\u001b[38;5;124;43m\"\u001b[39;49m\u001b[43m,\u001b[49m\n\u001b[1;32m      5\u001b[0m \u001b[43m       \u001b[49m\u001b[38;5;66;43;03m#channels = [\"channel1\", \"channel2\", \"channel3\", \"channel4\"],    # list of channel names\u001b[39;49;00m\n\u001b[1;32m      6\u001b[0m \u001b[43m       \u001b[49m\u001b[43mdnamarker\u001b[49m\u001b[38;5;241;43m=\u001b[39;49m\u001b[38;5;124;43m\"\u001b[39;49m\u001b[38;5;124;43mdapi\u001b[39;49m\u001b[38;5;124;43m\"\u001b[39;49m\u001b[43m,\u001b[49m\u001b[43m                                           \u001b[49m\u001b[38;5;66;43;03m# DNA marker channel\u001b[39;49;00m\n\u001b[1;32m      7\u001b[0m \u001b[43m       \u001b[49m\u001b[43msegmethod\u001b[49m\u001b[38;5;241;43m=\u001b[39;49m\u001b[38;5;124;43m\"\u001b[39;49m\u001b[38;5;124;43mcellpose\u001b[39;49m\u001b[38;5;124;43m\"\u001b[39;49m\u001b[43m,\u001b[49m\n\u001b[1;32m      8\u001b[0m \u001b[43m       \u001b[49m\u001b[43museGPU\u001b[49m\u001b[38;5;241;43m=\u001b[39;49m\u001b[38;5;28;43;01mTrue\u001b[39;49;00m\u001b[43m,\u001b[49m\n\u001b[1;32m      9\u001b[0m \u001b[43m       \u001b[49m\u001b[43moutdir\u001b[49m\u001b[38;5;241;43m=\u001b[39;49m\u001b[38;5;124;43m\"\u001b[39;49m\u001b[38;5;124;43m..\u001b[39;49m\u001b[38;5;130;43;01m\\\\\u001b[39;49;00m\u001b[38;5;124;43mdata\u001b[39;49m\u001b[38;5;130;43;01m\\\\\u001b[39;49;00m\u001b[38;5;124;43mtest\u001b[39;49m\u001b[38;5;124;43m\"\u001b[39;49m\u001b[43m,\u001b[49m\u001b[43m                                                    \u001b[49m\u001b[38;5;66;43;03m# path to output directory\u001b[39;49;00m\n\u001b[1;32m     10\u001b[0m \u001b[43m       \u001b[49m\u001b[43mcollate\u001b[49m\u001b[38;5;241;43m=\u001b[39;49m\u001b[38;5;28;43;01mFalse\u001b[39;49;00m\u001b[43m,\u001b[49m\u001b[43m                                                   \u001b[49m\u001b[38;5;66;43;03m# whether to combine data\u001b[39;49;00m\n\u001b[1;32m     11\u001b[0m \u001b[43m       \u001b[49m\u001b[43mchannelsinname\u001b[49m\u001b[38;5;241;43m=\u001b[39;49m\u001b[38;5;28;43;01mTrue\u001b[39;49;00m\n\u001b[1;32m     12\u001b[0m \u001b[43m       \u001b[49m\u001b[43m)\u001b[49m\n",
      "File \u001b[0;32m~/Documents/GitHub/ng_tools/ngtools/wrappers.py:62\u001b[0m, in \u001b[0;36mbatch_Segmentador\u001b[0;34m(dir, channels, dnamarker, segmethod, useGPU, xscale, yscale, outdir, channelsinname, collate)\u001b[0m\n\u001b[1;32m     60\u001b[0m     \u001b[38;5;28;01mcontinue\u001b[39;00m\n\u001b[1;32m     61\u001b[0m \u001b[38;5;28;01mif\u001b[39;00m channelsinname:\n\u001b[0;32m---> 62\u001b[0m     channels \u001b[38;5;241m=\u001b[39m \u001b[43mbasename\u001b[49m\u001b[43m(\u001b[49m\u001b[43mthisdir\u001b[49m\u001b[43m)\u001b[49m\u001b[38;5;241;43m.\u001b[39;49m\u001b[43msplit\u001b[49m\u001b[43m(\u001b[49m\u001b[38;5;124;43m\"\u001b[39;49m\u001b[38;5;124;43m_\u001b[39;49m\u001b[38;5;124;43m\"\u001b[39;49m\u001b[43m)\u001b[49m\u001b[43m[\u001b[49m\u001b[38;5;241;43m1\u001b[39;49m\u001b[43m]\u001b[49m\u001b[38;5;241m.\u001b[39msplit(\u001b[38;5;124m\"\u001b[39m\u001b[38;5;124m,\u001b[39m\u001b[38;5;124m\"\u001b[39m)\n\u001b[1;32m     63\u001b[0m     \u001b[38;5;28mprint\u001b[39m(channels)\n\u001b[1;32m     64\u001b[0m ngs\u001b[38;5;241m.\u001b[39mset_channels(channels\u001b[38;5;241m=\u001b[39mchannels, marker\u001b[38;5;241m=\u001b[39mdnamarker)\n",
      "\u001b[0;31mIndexError\u001b[0m: list index out of range"
     ]
    }
   ],
   "source": [
    "from ngtools.wrappers import batch_Segmentador\n",
    "\n",
    "batch_Segmentador(\n",
    "       dir = \"/Users/m./Downloads/Images for Marcelo/\",\n",
    "       #channels = [\"channel1\", \"channel2\", \"channel3\", \"channel4\"],    # list of channel names\n",
    "       dnamarker=\"dapi\",                                           # DNA marker channel\n",
    "       segmethod=\"cellpose\",\n",
    "       useGPU=True,\n",
    "       outdir=\"..\\\\data\\\\test\",                                                    # path to output directory\n",
    "       collate=False,                                                   # whether to combine data\n",
    "       channelsinname=True\n",
    "       )"
   ]
  },
  {
   "cell_type": "code",
   "execution_count": null,
   "metadata": {},
   "outputs": [],
   "source": []
  }
 ],
 "metadata": {
  "kernelspec": {
   "display_name": "Python 3 (ipykernel)",
   "language": "python",
   "name": "python3"
  },
  "language_info": {
   "codemirror_mode": {
    "name": "ipython",
    "version": 3
   },
   "file_extension": ".py",
   "mimetype": "text/x-python",
   "name": "python",
   "nbconvert_exporter": "python",
   "pygments_lexer": "ipython3",
   "version": "3.10.4"
  }
 },
 "nbformat": 4,
 "nbformat_minor": 1
}
