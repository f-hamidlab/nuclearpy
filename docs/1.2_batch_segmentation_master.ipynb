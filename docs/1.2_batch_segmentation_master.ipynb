{
 "cells": [
  {
   "cell_type": "markdown",
   "metadata": {
    "pycharm": {
     "name": "#%% md\n"
    }
   },
   "source": [
    "# NuclearPy - Batch segmentation\n",
    "\n",
    "This interactive notebook contain the code to perform nuclear segmentation and feature quantitation on a batch of high-content images.\n",
    "\n",
    "For a detailed, step-by-step pipeline of nuclear segmentation, please refer to the `1.1_segmentation_master.ipynb` notebook for detailed instructions.\n",
    "\n",
    "## Pre-requisite\n",
    "\n",
    "Please make sure that `NuclearPy` is successfully installed on your local computer. Installation instructions can be found on `NuclearPy` [GitHub repository](https://github.com/f-hamidlab/nuclearpy)."
   ]
  },
  {
   "cell_type": "markdown",
   "metadata": {},
   "source": [
    "<br>\n",
    "The code block below contain a wrapper function to perform nuclei segmentation on a sample batch of experiments.\n",
    "<br>\n",
    "<br>\n",
    "\n",
    "**Tip on experiments with different channel config:**\n",
    "\n",
    "Format names of experiment directory as such: \n",
    "<br><br>\n",
    "`\"AnyName_Channel1,Channel2,Channel3,Channel4\"`\n",
    "<br><br>\n",
    "and set `channelsinname` to `True`. `Segmentador` will read parse the channels from directory\n",
    "name and assign channel names accordingly"
   ]
  },
  {
   "cell_type": "code",
   "execution_count": 1,
   "metadata": {
    "pycharm": {
     "name": "#%%\n"
    }
   },
   "outputs": [
    {
     "name": "stdout",
     "output_type": "stream",
     "text": [
      "Analysing ../data/sample_images/tiff\n",
      "Files imported:\n",
      "\ttest (format: .TIF)\n",
      "Segmenting images\n",
      "\n",
      "Performing segmentation on file 1 of 1 \n",
      "\n",
      "Calculating nuclear features\n"
     ]
    },
    {
     "name": "stderr",
     "output_type": "stream",
     "text": [
      "100%|█████████████████████████████████████████████████████████████████| 1/1 [00:00<00:00,  2.53it/s]\n",
      "100%|█████████████████████████████████████████████████████████████████| 1/1 [00:00<00:00,  3.99it/s]\n",
      "100%|█████████████████████████████████████████████████████████████████| 1/1 [00:00<00:00, 16.36it/s]\n",
      "100%|█████████████████████████████████████████████████████████████████| 1/1 [00:00<00:00,  5.94it/s]\n",
      "100%|█████████████████████████████████████████████████████████████████| 1/1 [00:04<00:00,  4.54s/it]\n",
      "100%|█████████████████████████████████████████████████████████████████| 4/4 [00:11<00:00,  2.93s/it]\n",
      "100%|█████████████████████████████████████████████████████████████████| 1/1 [00:00<00:00, 20.12it/s]\n"
     ]
    },
    {
     "name": "stdout",
     "output_type": "stream",
     "text": [
      "Channel Info saved successfully!\n",
      "CSV file saved as: ../data/test/tiff/out_ng/output.csv.\n",
      "Analysing ../data/sample_images/experiment1\n",
      "Files imported:\n",
      "\tSnap-200 (format: .CZI)\n",
      "Segmenting images\n",
      "\n",
      "Performing segmentation on file 1 of 1 \n",
      "\n",
      "Calculating nuclear features\n"
     ]
    },
    {
     "name": "stderr",
     "output_type": "stream",
     "text": [
      "100%|█████████████████████████████████████████████████████████████████| 1/1 [00:00<00:00,  1.91it/s]\n",
      "100%|█████████████████████████████████████████████████████████████████| 1/1 [00:00<00:00,  4.48it/s]\n",
      "100%|█████████████████████████████████████████████████████████████████| 1/1 [00:00<00:00, 13.15it/s]\n",
      "100%|█████████████████████████████████████████████████████████████████| 1/1 [00:00<00:00,  3.20it/s]\n",
      "100%|█████████████████████████████████████████████████████████████████| 1/1 [00:13<00:00, 13.70s/it]\n",
      "100%|█████████████████████████████████████████████████████████████████| 4/4 [00:30<00:00,  7.63s/it]\n",
      "100%|█████████████████████████████████████████████████████████████████| 1/1 [00:00<00:00,  9.14it/s]\n"
     ]
    },
    {
     "name": "stdout",
     "output_type": "stream",
     "text": [
      "Channel Info saved successfully!\n",
      "CSV file saved as: ../data/test/experiment1/out_ng/output.csv.\n",
      "Analysing ../data/sample_images/experiment2\n",
      "Files imported:\n",
      "\tSnap-120 (format: .CZI)\n",
      "Segmenting images\n",
      "\n",
      "Performing segmentation on file 1 of 1 \n",
      "\n",
      "Calculating nuclear features\n"
     ]
    },
    {
     "name": "stderr",
     "output_type": "stream",
     "text": [
      "100%|█████████████████████████████████████████████████████████████████| 1/1 [00:00<00:00,  3.13it/s]\n",
      "100%|█████████████████████████████████████████████████████████████████| 1/1 [00:00<00:00,  6.65it/s]\n",
      "100%|█████████████████████████████████████████████████████████████████| 1/1 [00:00<00:00, 13.25it/s]\n",
      "100%|█████████████████████████████████████████████████████████████████| 1/1 [00:00<00:00,  3.60it/s]\n",
      "100%|█████████████████████████████████████████████████████████████████| 1/1 [00:09<00:00,  9.04s/it]\n",
      "100%|█████████████████████████████████████████████████████████████████| 4/4 [00:31<00:00,  7.78s/it]\n",
      "100%|█████████████████████████████████████████████████████████████████| 1/1 [00:00<00:00,  8.63it/s]\n"
     ]
    },
    {
     "name": "stdout",
     "output_type": "stream",
     "text": [
      "Channel Info saved successfully!\n",
      "CSV file saved as: ../data/test/experiment2/out_ng/output.csv.\n"
     ]
    }
   ],
   "source": [
    "from nuclearpy.wrappers import batch_Segmentador\n",
    "\n",
    "path=\"../data/sample_images\"\n",
    "\n",
    "batch_Segmentador(\n",
    "       dir = path,\n",
    "       channels = [\"DAPI\",\"Beta3\",\"RFP\",\"Ngn\"],    # list of channel names\n",
    "       dnamarker=\"DAPI\",                          # DNA marker channel\n",
    "       segmethod=\"cellpose\",\n",
    "       useGPU=True,\n",
    "       outdir=\"../data/test\",                     # path to output directory\n",
    "       collate=True,                              # whether to combine data\n",
    "       channelsinname=False\n",
    "       )"
   ]
  },
  {
   "cell_type": "code",
   "execution_count": null,
   "metadata": {},
   "outputs": [],
   "source": []
  }
 ],
 "metadata": {
  "kernelspec": {
   "display_name": "Python 3 (ipykernel)",
   "language": "python",
   "name": "python3"
  },
  "language_info": {
   "codemirror_mode": {
    "name": "ipython",
    "version": 3
   },
   "file_extension": ".py",
   "mimetype": "text/x-python",
   "name": "python",
   "nbconvert_exporter": "python",
   "pygments_lexer": "ipython3",
   "version": "3.8.13"
  }
 },
 "nbformat": 4,
 "nbformat_minor": 1
}
