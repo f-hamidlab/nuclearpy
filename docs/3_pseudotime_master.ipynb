{
 "cells": [
  {
   "cell_type": "markdown",
   "id": "5bac8149",
   "metadata": {
    "pycharm": {
     "name": "#%% md\n"
    }
   },
   "source": [
    "# NuclearPy - Pseudotime analysis\n",
    "\n",
    "This interactive notebook describes the workflow to analyze previously-processed NuclearPy data for pseudotime analysis.\n",
    "\n",
    "\n",
    "## Pre-requisite\n",
    "\n",
    "Please make sure that `NuclearPy` is successfully installed on your local computer. Installation instructions can be found on `NuclearPy` [GitHub repository](https://github.com/f-hamidlab/nuclearpy)."
   ]
  },
  {
   "cell_type": "markdown",
   "id": "7f23794f",
   "metadata": {
    "pycharm": {
     "name": "#%% md\n"
    }
   },
   "source": [
    "\n",
    "We begin by importing the Analyzor class from `nuclearpy` module."
   ]
  },
  {
   "cell_type": "code",
   "execution_count": null,
   "id": "ab75d390",
   "metadata": {
    "pycharm": {
     "name": "#%%\n"
    }
   },
   "outputs": [],
   "source": [
    "from nuclearpy.analyzer import Analyzor\n",
    "import matplotlib.pyplot as plt\n",
    "import scanpy as sc"
   ]
  },
  {
   "cell_type": "markdown",
   "id": "a6724212",
   "metadata": {
    "pycharm": {
     "name": "#%% md\n"
    }
   },
   "source": [
    "Pass the path to example output to `Analyzor` class function:"
   ]
  },
  {
   "cell_type": "code",
   "execution_count": null,
   "id": "c32b8d30",
   "metadata": {},
   "outputs": [],
   "source": [
    "obj = Analyzor(collated_csv = \"../data/sample_output/Ngn2_Temporal.csv\")"
   ]
  },
  {
   "cell_type": "markdown",
   "id": "63dc7d9c",
   "metadata": {},
   "source": [
    "Normalize DAPI channell and keep predicted single cells."
   ]
  },
  {
   "cell_type": "code",
   "execution_count": null,
   "id": "10f068f8",
   "metadata": {
    "pycharm": {
     "name": "#%%\n"
    }
   },
   "outputs": [],
   "source": [
    "obj.normChannel(channel = \"dapi\", method = \"mode\", nbins = 40, intensity_type = \"total\")\n",
    "obj.findSingleCells(byExperiment = True, nbins = 40, spread = 0.4, channel = \"dapi\")\n",
    "obj.filterCells(filter = \"isSingleCell == True\", inplace = True)"
   ]
  },
  {
   "cell_type": "markdown",
   "id": "76117f90",
   "metadata": {},
   "source": [
    "Next, choose the variable features to be included in the pseudotime analysis. <br>\n",
    "These are the list of all varible feature:"
   ]
  },
  {
   "cell_type": "code",
   "execution_count": null,
   "id": "b237b208",
   "metadata": {
    "pycharm": {
     "name": "#%%\n"
    }
   },
   "outputs": [],
   "source": [
    "obj.showADataVars()"
   ]
  },
  {
   "cell_type": "markdown",
   "id": "df7f9ccb",
   "metadata": {},
   "source": [
    "These are the features we include in the analysis:\n",
    "\n",
    "- avg_intensity_dapi\n",
    "- nuclear_area\n",
    "- major_axis\n",
    "- avg_intensity_internal_ring_dapi\n",
    "- avg_intensity_beta3\n",
    "- avg_intensity_rfp\n",
    "- dna_dots\n",
    "- spatial_entropy"
   ]
  },
  {
   "cell_type": "code",
   "execution_count": null,
   "id": "ecdcae8c",
   "metadata": {
    "pycharm": {
     "name": "#%%\n"
    }
   },
   "outputs": [],
   "source": [
    "include_feat = ['avg_intensity_dapi',\n",
    " 'nuclear_area',\n",
    " 'major_axis',\n",
    " 'avg_intensity_internal_ring_dapi',\n",
    " 'avg_intensity_beta3',\n",
    " 'avg_intensity_rfp',\n",
    " 'dna_dots',\n",
    " 'spatial_entropy']\n",
    "obj.includeVars(vars = include_feat)"
   ]
  },
  {
   "cell_type": "markdown",
   "id": "f35e88ca",
   "metadata": {},
   "source": [
    "Construct diffusion map"
   ]
  },
  {
   "cell_type": "markdown",
   "id": "c293d405",
   "metadata": {
    "pycharm": {
     "name": "#%% md\n"
    }
   },
   "source": [
    "#### DIFFMAP"
   ]
  },
  {
   "cell_type": "code",
   "execution_count": null,
   "id": "24c911fe",
   "metadata": {
    "pycharm": {
     "name": "#%%\n"
    }
   },
   "outputs": [],
   "source": [
    "obj.findNeighbours(method = \"umap\")\n",
    "obj.findClusters(method = \"leiden\", res=.15)\n",
    "obj.runDimReduc(method = \"diffmap\")"
   ]
  },
  {
   "cell_type": "code",
   "execution_count": null,
   "id": "6bc72553",
   "metadata": {
    "pycharm": {
     "name": "#%%\n"
    }
   },
   "outputs": [],
   "source": [
    "obj.plotDim(hue = \"leiden\", method=\"diffmap\")"
   ]
  },
  {
   "cell_type": "markdown",
   "id": "88f46cfa",
   "metadata": {
    "pycharm": {
     "name": "#%% md\n"
    }
   },
   "source": [
    "Choose root cells for diffusion pseudotime"
   ]
  },
  {
   "cell_type": "code",
   "execution_count": null,
   "id": "5a3437cb",
   "metadata": {
    "pycharm": {
     "name": "#%%\n"
    }
   },
   "outputs": [],
   "source": [
    "%matplotlib tk\n",
    "root_cells = obj.chooseCells(reduction = \"diffmap\")"
   ]
  },
  {
   "cell_type": "code",
   "execution_count": null,
   "id": "ceb00f3c",
   "metadata": {
    "pycharm": {
     "name": "#%%\n"
    }
   },
   "outputs": [],
   "source": [
    "%matplotlib inline"
   ]
  },
  {
   "cell_type": "code",
   "execution_count": null,
   "id": "11ff37bd",
   "metadata": {
    "pycharm": {
     "name": "#%%\n"
    }
   },
   "outputs": [],
   "source": [
    "obj.runPT(root_cells = root_cells)\n",
    "obj.plotDim(hue = \"dpt_pseudotime\", method=\"diffmap\")"
   ]
  },
  {
   "cell_type": "markdown",
   "id": "484893d7",
   "metadata": {
    "pycharm": {
     "name": "#%% md\n"
    }
   },
   "source": [
    "Visualize changes in features between clusters:"
   ]
  },
  {
   "cell_type": "code",
   "execution_count": null,
   "id": "59a1afe0",
   "metadata": {
    "pycharm": {
     "name": "#%%\n"
    },
    "scrolled": true
   },
   "outputs": [],
   "source": [
    "obj.normAData(method = \"standardscaler\")\n",
    "fig, ax = plt.subplots(figsize = (5, 7))\n",
    "\n",
    "markers = ['nuclear_area','avg_intensity_dapi','major_axis','dna_dots','avg_intensity_internal_ring_dapi']\n",
    "sc.pl.stacked_violin(obj.adata, markers, groupby = 'leiden', swap_axes = True, ax = ax, dendrogram = False, categories_order=['2','1','0'])\n",
    "fig.tight_layout()\n",
    "plt.show()"
   ]
  },
  {
   "cell_type": "markdown",
   "id": "75e652a2",
   "metadata": {
    "pycharm": {
     "name": "#%% md\n"
    }
   },
   "source": [
    "Visualize changes in features across pseudotime"
   ]
  },
  {
   "cell_type": "code",
   "execution_count": null,
   "id": "6c26b421",
   "metadata": {
    "pycharm": {
     "name": "#%%\n"
    }
   },
   "outputs": [],
   "source": [
    "pseudotime_path = [2,1,0]\n",
    "markers = ['nuclear_area',\n",
    "           'avg_intensity_dapi',\n",
    "           'nuclear_perimeter',\n",
    "           'major_axis',\n",
    "           'minor_axis',\n",
    "           'axes_ratio',\n",
    "           'circularity',\n",
    "           'eccentricity',\n",
    "           'solidity',\n",
    "           'avg_intensity_core_dapi',\n",
    "           'avg_intensity_internal_ring_dapi',\n",
    "           'avg_intensity_external_ring_dapi', \n",
    "           'avg_intensity_beta3',\n",
    "           'avg_intensity_rfp',\n",
    "          'dna_peaks',\n",
    "          'dna_dots',\n",
    "          'dna_dots_size_median']\n",
    "sc.pl.paga_path(\n",
    "    obj.adata, \n",
    "    pseudotime_path, \n",
    "    markers,\n",
    "    show_node_names = True,\n",
    "    n_avg = 50,\n",
    "    annotations = ['dpt_pseudotime'],\n",
    "    show_colorbar = True,\n",
    "    color_map = 'coolwarm',\n",
    "    groups_key = 'leiden',\n",
    "    color_maps_annotations = {'dpt_pseudotime': 'viridis'},\n",
    "    title = 'Path',\n",
    "    return_data = False,\n",
    "    normalize_to_zero_one = True,\n",
    "    show = True\n",
    ")"
   ]
  },
  {
   "cell_type": "code",
   "execution_count": null,
   "id": "36e69241",
   "metadata": {},
   "outputs": [],
   "source": [
    "pseudotime_path = [0,1,2,3,4,5]\n",
    "markers = ['nuclear_area',\n",
    "           'avg_intensity_dapi',\n",
    "           'nuclear_perimeter',\n",
    "           'major_axis',\n",
    "           'minor_axis',\n",
    "           'axes_ratio',\n",
    "           'circularity',\n",
    "           'eccentricity',\n",
    "           'solidity',\n",
    "           'avg_intensity_core_dapi',\n",
    "           'avg_intensity_internal_ring_dapi',\n",
    "           'avg_intensity_external_ring_dapi', \n",
    "           'avg_intensity_beta3',\n",
    "           'avg_intensity_rfp',\n",
    "          'dna_peaks',\n",
    "          'dna_dots',\n",
    "          'dna_dots_size_median']\n",
    "sc.pl.paga_path(\n",
    "    obj.adata, \n",
    "    pseudotime_path, \n",
    "    markers,\n",
    "    show_node_names = True,\n",
    "    n_avg = 50,\n",
    "    annotations = ['dpt_pseudotime'],\n",
    "    show_colorbar = True,\n",
    "    color_map = 'coolwarm',\n",
    "    groups_key = 'experiment',\n",
    "    color_maps_annotations = {'dpt_pseudotime': 'viridis'},\n",
    "    title = 'Path',\n",
    "    return_data = False,\n",
    "    normalize_to_zero_one = True,\n",
    "    show = True\n",
    ")"
   ]
  }
 ],
 "metadata": {
  "kernelspec": {
   "display_name": "Python 3 (ipykernel)",
   "language": "python",
   "name": "python3"
  },
  "language_info": {
   "codemirror_mode": {
    "name": "ipython",
    "version": 3
   },
   "file_extension": ".py",
   "mimetype": "text/x-python",
   "name": "python",
   "nbconvert_exporter": "python",
   "pygments_lexer": "ipython3",
   "version": "3.8.13"
  }
 },
 "nbformat": 4,
 "nbformat_minor": 5
}
