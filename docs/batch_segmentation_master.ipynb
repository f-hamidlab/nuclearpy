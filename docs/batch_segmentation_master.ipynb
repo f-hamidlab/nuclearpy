{
 "cells": [
  {
   "cell_type": "markdown",
   "metadata": {
    "pycharm": {
     "name": "#%% md\n"
    }
   },
   "source": [
    "### DO NOT TOUCH THIS MASTER VERSION OF THE NOTEBOOK. Create a duplicate notebook with your own copy name (e.g. marcelo_segmentador.ipynb) for your own usage"
   ]
  },
  {
   "cell_type": "markdown",
   "metadata": {
    "pycharm": {
     "name": "#%% md\n"
    }
   },
   "source": [
    "# Batch segmentation\n",
    "\n",
    "The code block below contain a wrapper function to perform nuclei segmentation on a batch of experiments.\n",
    "\n",
    "<br>\n",
    "<br>\n",
    "*Tip on experiments with different channel config:*\n",
    "\n",
    "Format names of experiment directory as such: \"AnyName_Channel1,Channel2,Channel3,Channel4\"\n",
    "and set `channelsinname` to `True`. `Segmentador` will read parse the channels from directory\n",
    "name and assign channel names accordingly"
   ]
  },
  {
   "cell_type": "code",
   "execution_count": 9,
   "metadata": {
    "pycharm": {
     "name": "#%%\n"
    }
   },
   "outputs": [
    {
     "name": "stdout",
     "output_type": "stream",
     "text": [
      "Analysing ..\\data\\sample_images\\experiment1\n",
      "Files imported:\n",
      "\tSnap-200 (format: .CZI)\n",
      "Segmenting images\n",
      "\n",
      "Performing segmentation on file 1 of 1 \n",
      "\n",
      "Calculating nuclear features\n"
     ]
    },
    {
     "name": "stderr",
     "output_type": "stream",
     "text": [
      "100%|████████████████████████████████████████████████████████████████████████████████████| 1/1 [00:00<00:00,  1.13it/s]\n",
      "100%|████████████████████████████████████████████████████████████████████████████████████| 1/1 [00:00<00:00,  4.03it/s]\n",
      "100%|████████████████████████████████████████████████████████████████████████████████████| 1/1 [00:00<00:00, 10.74it/s]\n",
      "100%|████████████████████████████████████████████████████████████████████████████████████| 1/1 [00:00<00:00,  3.10it/s]\n",
      "100%|████████████████████████████████████████████████████████████████████████████████████| 1/1 [00:16<00:00, 16.88s/it]\n",
      "100%|████████████████████████████████████████████████████████████████████████████████████| 4/4 [01:42<00:00, 25.51s/it]\n",
      "100%|████████████████████████████████████████████████████████████████████████████████████| 1/1 [00:00<00:00, 35.27it/s]\n"
     ]
    },
    {
     "name": "stdout",
     "output_type": "stream",
     "text": [
      "Channel Info saved successfully!\n",
      "CSV file saved as: ..\\data\\test\\experiment1\\out_ng\\output.csv.\n",
      "Analysing ..\\data\\sample_images\\experiment2\n",
      "Files imported:\n",
      "\tSnap-120 (format: .CZI)\n",
      "Segmenting images\n",
      "\n",
      "Performing segmentation on file 1 of 1 \n",
      "\n",
      "Calculating nuclear features\n"
     ]
    },
    {
     "name": "stderr",
     "output_type": "stream",
     "text": [
      "100%|████████████████████████████████████████████████████████████████████████████████████| 1/1 [00:00<00:00,  1.71it/s]\n",
      "100%|████████████████████████████████████████████████████████████████████████████████████| 1/1 [00:00<00:00,  4.85it/s]\n",
      "100%|████████████████████████████████████████████████████████████████████████████████████| 1/1 [00:00<00:00,  8.31it/s]\n",
      "100%|████████████████████████████████████████████████████████████████████████████████████| 1/1 [00:00<00:00,  3.06it/s]\n",
      "100%|████████████████████████████████████████████████████████████████████████████████████| 1/1 [00:12<00:00, 12.38s/it]\n",
      "100%|████████████████████████████████████████████████████████████████████████████████████| 4/4 [01:36<00:00, 24.01s/it]\n",
      "100%|████████████████████████████████████████████████████████████████████████████████████| 1/1 [00:00<00:00, 24.71it/s]"
     ]
    },
    {
     "name": "stdout",
     "output_type": "stream",
     "text": [
      "Channel Info saved successfully!\n",
      "CSV file saved as: ..\\data\\test\\experiment2\\out_ng\\output.csv.\n"
     ]
    },
    {
     "name": "stderr",
     "output_type": "stream",
     "text": [
      "\n"
     ]
    }
   ],
   "source": [
    "from ngtools.wrappers import batch_Segmentador\n",
    "\n",
    "batch_Segmentador(\n",
    "       dir = \"..\\\\data\\\\sample_images\",\n",
    "       channels = [\"channel1\", \"channel2\", \"channel3\", \"channel4\"],    # list of channel names\n",
    "       dnamarker=\"channel1\",                                           # DNA marker channel\n",
    "       segmethod=\"cellpose\",\n",
    "       useGPU=True,\n",
    "       outdir=\"..\\\\data\\\\test\",                                                    # path to output directory\n",
    "       collate=False,                                                   # whether to combine data\n",
    "       channelsinname=False\n",
    "       )"
   ]
  },
  {
   "cell_type": "code",
   "execution_count": 3,
   "metadata": {},
   "outputs": [
    {
     "name": "stdout",
     "output_type": "stream",
     "text": [
      "Help on function batch_Segmentador in module ngtools.wrappers:\n",
      "\n",
      "batch_Segmentador(dir, channels=None, dnamarker='dapi', segmethod='cellpose', useGPU=True, xscale=0.454, yscale=0.454, outdir=None, channelsinname=False, collate=False)\n",
      "    A wrapper to perform segmentation on all images for each experiment\n",
      "    \n",
      "    Parameters\n",
      "    ----------\n",
      "    path : str\n",
      "        Path to experiment directory. This directory should contain subdirectories\n",
      "        with images for different conditions (e.g. Ki67_Cellcyle which contain 8 folders)\n",
      "    channels: string array\n",
      "        A 4-element array describing the channels for the entire experiment.\n",
      "        (e.g. [\"DAPI\", \"Beta3\", \"RFP\", \"GFAP\"]). If different images have different\n",
      "        channel assignments, set this to None and switch channelsinname to True.\n",
      "    dnamarker: str\n",
      "        Name of the channel that represents the DNA marker\n",
      "    xscale: float\n",
      "        In situations where the metadata for the x-axis scale is not present, it will\n",
      "        use this given scale value. Default: 0.454\n",
      "    yscale: float\n",
      "        In situations where the metadata for the y-axis scale is not present, it will\n",
      "        use this given scale value. Default: 0.454\n",
      "    outdir: str\n",
      "        Path to output directory. If not given, outputs will be saved at the same\n",
      "        directory as input. If a valid path is provided, the outputs will be saved\n",
      "        in the specified directory, with the same file structures as in input.\n",
      "    channelsinname: Bool\n",
      "        True/False as to whether is the channel assignment is in the name of\n",
      "        subdirectories. This is useful for experiments with different channels\n",
      "        assigned. IMPORTANT: The format has to be as such\n",
      "        \"ANYDESCRIPTION_Channel1,Channel2,Channel3,Channel4\"\n",
      "    \n",
      "    Returns\n",
      "    -------\n",
      "    output.csv files in a directory called 'out_ng'\n",
      "    in input directory out outdir if given. The working image and masks are\n",
      "    also exported for each image, together with channel information\n",
      "\n"
     ]
    }
   ],
   "source": [
    "help(batch_Segmentador)"
   ]
  }
 ],
 "metadata": {
  "kernelspec": {
   "display_name": "Python 3 (ipykernel)",
   "language": "python",
   "name": "python3"
  },
  "language_info": {
   "codemirror_mode": {
    "name": "ipython",
    "version": 3
   },
   "file_extension": ".py",
   "mimetype": "text/x-python",
   "name": "python",
   "nbconvert_exporter": "python",
   "pygments_lexer": "ipython3",
   "version": "3.9.12"
  }
 },
 "nbformat": 4,
 "nbformat_minor": 1
}
