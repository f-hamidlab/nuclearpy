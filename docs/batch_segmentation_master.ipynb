{
 "cells": [
  {
   "cell_type": "markdown",
   "metadata": {
    "pycharm": {
     "name": "#%% md\n"
    }
   },
   "source": [
    "### DO NOT TOUCH THIS MASTER VERSION OF THE NOTEBOOK. Create a duplicate notebook with your own copy name (e.g. marcelo_segmentador.ipynb) for your own usage"
   ]
  },
  {
   "cell_type": "markdown",
   "metadata": {
    "pycharm": {
     "name": "#%% md\n"
    }
   },
   "source": [
    "# Batch segmentation\n",
    "\n",
    "The code block below contain a wrapper function to perform nuclei segmentation on a batch of experiments.\n",
    "\n",
    "<br>\n",
    "<br>\n",
    "*Tip on experiments with different channel config:*\n",
    "\n",
    "Format names of experiment directory as such: \"AnyName_Channel1,Channel2,Channel3,Channel4\"\n",
    "and set `channelsinname` to `True`. `Segmentador` will read parse the channels from directory\n",
    "name and assign channel names accordingly"
   ]
  },
  {
   "cell_type": "code",
   "execution_count": null,
   "metadata": {
    "pycharm": {
     "name": "#%%\n"
    }
   },
   "outputs": [],
   "source": [
    "from ngtools.wrappers import batch_Segmentador\n",
    "\n",
    "batch_Segmentador(\n",
    "       dir = \"..\\\\data\\\\sample_images\",\n",
    "       #channels = [\"channel1\", \"channel2\", \"channel3\", \"channel4\"],    # list of channel names\n",
    "       dnamarker=\"dapi\",                                           # DNA marker channel\n",
    "       segmethod=\"cellpose\",\n",
    "       useGPU=True,\n",
    "       outdir=\"..\\\\data\\\\test\",                                                    # path to output directory\n",
    "       collate=False,                                                   # whether to combine data\n",
    "       channelsinname=True\n",
    "       )"
   ]
  }
 ],
 "metadata": {
  "kernelspec": {
   "display_name": "Python 3 (ipykernel)",
   "language": "python",
   "name": "python3"
  },
  "language_info": {
   "codemirror_mode": {
    "name": "ipython",
    "version": 3
   },
   "file_extension": ".py",
   "mimetype": "text/x-python",
   "name": "python",
   "nbconvert_exporter": "python",
   "pygments_lexer": "ipython3",
   "version": "3.9.12"
  }
 },
 "nbformat": 4,
 "nbformat_minor": 1
}
